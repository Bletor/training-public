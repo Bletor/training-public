{
 "metadata": {
  "name": "",
  "signature": "sha256:1b8c3f44d655cb364168e2bf1e24ee88bcf007ffe16e4bd397ca8eab03d8f06c"
 },
 "nbformat": 3,
 "nbformat_minor": 0,
 "worksheets": [
  {
   "cells": [
    {
     "cell_type": "heading",
     "level": 1,
     "metadata": {},
     "source": [
      "Monte Carlo Methods: Lab 1"
     ]
    },
    {
     "cell_type": "markdown",
     "metadata": {},
     "source": [
      "Take a look at Chapter 10 of Newman's *Computational Physics with Python* where much of this material is drawn from."
     ]
    },
    {
     "cell_type": "code",
     "collapsed": false,
     "input": [
      "from IPython.core.display import HTML\n",
      "css_file = '../ipython_notebook_styles/ngcmstyle.css'\n",
      "HTML(open(css_file, \"r\").read())"
     ],
     "language": "python",
     "metadata": {},
     "outputs": [
      {
       "html": [
        "<link href='http://fonts.googleapis.com/css?family=Open+Sans:100,300,400,500,700,800,900,100italic,300italic,400italic,500italic,700italic,800italic,900italic' rel='stylesheet' type='text/css'>\n",
        "<link href='http://fonts.googleapis.com/css?family=Arvo:400,700,400italic' rel='stylesheet' type='text/css'>\n",
        "<link href='http://fonts.googleapis.com/css?family=PT+Mono' rel='stylesheet' type='text/css'>\n",
        "<link href='http://fonts.googleapis.com/css?family=Shadows+Into+Light' rel='stylesheet' type='text/css'>\n",
        "<link href='http://fonts.googleapis.com/css?family=Nixie+One' rel='stylesheet' type='text/css'>\n",
        "<style>\n",
        "\n",
        "@font-face {\n",
        "    font-family: \"Computer Modern\";\n",
        "    src: url('http://mirrors.ctan.org/fonts/cm-unicode/fonts/otf/cmunss.otf');\n",
        "}\n",
        "\n",
        "#notebook_panel { /* main background */\n",
        "    background: rgb(245,245,245);\n",
        "}\n",
        "\n",
        "div.cell { /* set cell width */\n",
        "    width: 1000px;\n",
        "}\n",
        "\n",
        "div #notebook { /* centre the content */\n",
        "    background: #fff; /* white background for content */\n",
        "    width: 1200px;\n",
        "    margin: auto;\n",
        "    padding-left: 0em;\n",
        "}\n",
        "\n",
        "#notebook li { /* More space between bullet points */\n",
        "margin-top:0.8em;\n",
        "}\n",
        "\n",
        "/* draw border around running cells */\n",
        "div.cell.border-box-sizing.code_cell.running { \n",
        "    border: 1px solid #111;\n",
        "}\n",
        "\n",
        "/* Put a solid color box around each cell and its output, visually linking them*/\n",
        "div.cell.code_cell {\n",
        "    background-color: rgb(256,256,256); \n",
        "    border-radius: 0px; \n",
        "    padding: 0.5em;\n",
        "    margin-left:1em;\n",
        "    margin-top: 1em;\n",
        "}\n",
        "\n",
        "div.text_cell_render{\n",
        "    font-family: 'Open Sans' sans-serif;\n",
        "    line-height: 140%;\n",
        "    font-size: 125%;\n",
        "    font-weight: 400;\n",
        "    width:900px;\n",
        "    margin-left:auto;\n",
        "    margin-right:auto;\n",
        "}\n",
        "\n",
        "\n",
        "/* Formatting for header cells */\n",
        ".text_cell_render h1 {\n",
        "    font-family: 'Arvo', serif;\n",
        "    font-style:regular;\n",
        "    font-weight: 400;    \n",
        "    font-size: 45pt;\n",
        "    line-height: 100%;\n",
        "    color: rgb(0,51,102);\n",
        "    margin-bottom: 0.5em;\n",
        "    margin-top: 0.5em;\n",
        "    display: block;\n",
        "}\t\n",
        ".text_cell_render h2 {\n",
        "    font-family: 'Arvo', serif;\n",
        "    font-weight: 400;\n",
        "    font-size: 30pt;\n",
        "    line-height: 100%;\n",
        "    color: rgb(0,51,102);\n",
        "    margin-bottom: 0.1em;\n",
        "    margin-top: 0.3em;\n",
        "    display: block;\n",
        "}\t\n",
        "\n",
        ".text_cell_render h3 {\n",
        "    font-family: 'Arvo', serif;\n",
        "    margin-top:16px;\n",
        "\tfont-size: 22pt;\n",
        "    font-weight: 600;\n",
        "    margin-bottom: 3px;\n",
        "    font-style: regular;\n",
        "    color: rgb(102,102,0);\n",
        "}\n",
        "\n",
        ".text_cell_render h4 {    /*Use this for captions*/\n",
        "    font-family: 'Arvo', serif;\n",
        "    font-size: 14pt;\n",
        "    text-align: center;\n",
        "    margin-top: 0em;\n",
        "    margin-bottom: 2em;\n",
        "    font-style: regular;\n",
        "}\n",
        "\n",
        ".text_cell_render h5 {  /*Use this for small titles*/\n",
        "    font-family: 'Arvo', sans-serif;\n",
        "    font-weight: 400;\n",
        "    font-size: 16pt;\n",
        "    color: rgb(163,0,0);\n",
        "    font-style: italic;\n",
        "    margin-bottom: .1em;\n",
        "    margin-top: 0.8em;\n",
        "    display: block;\n",
        "}\n",
        "\n",
        ".text_cell_render h6 { /*use this for copyright note*/\n",
        "    font-family: 'PT Mono', sans-serif;\n",
        "    font-weight: 300;\n",
        "    font-size: 9pt;\n",
        "    line-height: 100%;\n",
        "    color: grey;\n",
        "    margin-bottom: 1px;\n",
        "    margin-top: 1px;\n",
        "}\n",
        "\n",
        ".CodeMirror{\n",
        "        font-family: \"PT Mono\";\n",
        "        font-size: 90%;\n",
        "}\n",
        "\n",
        "</style>\n",
        "<script>\n",
        "    MathJax.Hub.Config({\n",
        "                        TeX: {\n",
        "                           extensions: [\"AMSmath.js\"],\n",
        "                           equationNumbers: { autoNumber: \"AMS\", useLabelIds: true}\n",
        "                           },\n",
        "                tex2jax: {\n",
        "                    inlineMath: [ ['$','$'], [\"\\\\(\",\"\\\\)\"] ],\n",
        "                    displayMath: [ ['$$','$$'], [\"\\\\[\",\"\\\\]\"] ]\n",
        "                },\n",
        "                displayAlign: 'center', // Change this to 'center' to center equations.\n",
        "                \"HTML-CSS\": {\n",
        "                    styles: {'.MathJax_Display': {\"margin\": 4}}\n",
        "                }\n",
        "        });\n",
        "</script>\n"
       ],
       "metadata": {},
       "output_type": "pyout",
       "prompt_number": 1,
       "text": [
        "<IPython.core.display.HTML at 0x104900080>"
       ]
      }
     ],
     "prompt_number": 1
    },
    {
     "cell_type": "heading",
     "level": 2,
     "metadata": {},
     "source": [
      "Integration"
     ]
    },
    {
     "cell_type": "markdown",
     "metadata": {},
     "source": [
      "If we have an ugly function, say \n",
      "\n",
      "$$\n",
      "\\begin{equation}\n",
      "  f(x) = \\sin^2 \\left(\\frac{1}{x (2-x)}\\right),\n",
      "\\end{equation}\n",
      "$$\n",
      "\n",
      "then it can be very difficult to integrate. To see this, just do a quick plot."
     ]
    },
    {
     "cell_type": "code",
     "collapsed": false,
     "input": [
      "%matplotlib inline\n",
      "import numpy as np\n",
      "import matplotlib.pyplot as plt\n",
      "from matplotlib import rcParams\n",
      "rcParams['font.family'] = 'serif'\n",
      "rcParams['font.size'] = 16\n",
      "rcParams['figure.figsize'] = (12,6)"
     ],
     "language": "python",
     "metadata": {},
     "outputs": []
    },
    {
     "cell_type": "code",
     "collapsed": false,
     "input": [
      "def f(x):\n",
      "    return np.sin(1.0/(x*(2.0-x)))**2"
     ],
     "language": "python",
     "metadata": {},
     "outputs": []
    },
    {
     "cell_type": "code",
     "collapsed": false,
     "input": [
      "x = np.linspace(0.0, 2.0, 10000)\n",
      "plt.plot(x, f(x))\n",
      "plt.xlabel(r\"$x$\")\n",
      "plt.ylabel(r\"$\\sin^2([x(x-2)]^{-1})$\");"
     ],
     "language": "python",
     "metadata": {},
     "outputs": []
    },
    {
     "cell_type": "markdown",
     "metadata": {},
     "source": [
      "We see that as the function oscillates *infinitely often*, integrating this with standard methods is going to be very inaccurate."
     ]
    },
    {
     "cell_type": "markdown",
     "metadata": {},
     "source": [
      "However, we note that the function is bounded, so the integral (given by the shaded area below) must itself be bounded - less than the total area in the plot, which is $2$ in this case."
     ]
    },
    {
     "cell_type": "code",
     "collapsed": false,
     "input": [
      "plt.fill_between(x, f(x))\n",
      "plt.xlabel(r\"$x$\")\n",
      "plt.ylabel(r\"$\\sin^2([x(x-2)]^{-1})$\");"
     ],
     "language": "python",
     "metadata": {},
     "outputs": []
    },
    {
     "cell_type": "markdown",
     "metadata": {},
     "source": [
      "So if we scattered (using a *uniform* random distribution) a large number of points within this box, the fraction of them falling *below* the curve is approximately the integral we want to compute, divided by the area of the box:\n",
      "\n",
      "$$\n",
      "\\begin{equation}\n",
      "  I = \\int_a^b f(x) \\, dx \\quad \\implies \\quad I \\simeq \\frac{k A}{N}\n",
      "\\end{equation}\n",
      "$$\n",
      "\n",
      "where $N$ is the total number of points considered, $k$ is the number falling below the curve, and $A$ is the area of the box. We can choose the box, but we need $y \\in [\\min_{x \\in [a, b]} (f(x)), \\max_{x \\in [a, b]} (f(x))] = [c, d]$, giving $A = (d-c)(b-a)$."
     ]
    },
    {
     "cell_type": "markdown",
     "metadata": {},
     "source": [
      "So let's apply this technique to the function above, where the box in $y$ is $[0,1]$."
     ]
    },
    {
     "cell_type": "code",
     "collapsed": false,
     "input": [
      "def mc_integrate(f, domain_x, domain_y, N = 10000):\n",
      "    \"\"\"\n",
      "    Monte Carlo integration function: to be completed. Result, for the given f, should be around 1.46.\n",
      "    \"\"\"\n",
      "    import numpy.random\n",
      "    \n",
      "    return I"
     ],
     "language": "python",
     "metadata": {},
     "outputs": []
    },
    {
     "cell_type": "code",
     "collapsed": false,
     "input": [],
     "language": "python",
     "metadata": {},
     "outputs": []
    },
    {
     "cell_type": "heading",
     "level": 3,
     "metadata": {},
     "source": [
      "Accuracy"
     ]
    },
    {
     "cell_type": "markdown",
     "metadata": {},
     "source": [
      "To check the accuracy of the method, let's apply this to calculate $\\pi$.\n",
      "\n",
      "The area of a circle of radius $2$ is $4\\pi$, so the area of the *quarter* circle in $x, y \\in [0, 2]$ is just $\\pi$:\n",
      "\n",
      "$$\n",
      "\\begin{equation}\n",
      "  \\pi = \\int_0^2 \\sqrt{4 - x^2} \\, dx.\n",
      "\\end{equation}\n",
      "$$"
     ]
    },
    {
     "cell_type": "markdown",
     "metadata": {},
     "source": [
      "Check the convergence of the Monte Carlo integration with $N$. (I suggest using $N = 100 \\times 2^i$ for $i = 0, \\dots, 19$; you should find the error scales roughly as $N^{-1/2}$)"
     ]
    },
    {
     "cell_type": "code",
     "collapsed": false,
     "input": [],
     "language": "python",
     "metadata": {},
     "outputs": []
    },
    {
     "cell_type": "heading",
     "level": 2,
     "metadata": {},
     "source": [
      "Mean Value Method"
     ]
    },
    {
     "cell_type": "markdown",
     "metadata": {},
     "source": [
      "Monte Carlo integration is pretty inaccurate, as seen above: it converges slowly, and has poor accuracy at all $N$. An alternative is the *mean value* method, where we note that *by definition* the average value of $f$ over the interval $[a, b]$ is precisely the integral multiplied by the width of the interval.\n",
      "\n",
      "Hence we can just choose our $N$ random points in $x$ as above, but now just compute\n",
      "\n",
      "$$\n",
      "\\begin{equation}\n",
      "  I \\simeq \\frac{b-a}{N} \\sum_{i=1}^N f(x_i).\n",
      "\\end{equation}\n",
      "$$"
     ]
    },
    {
     "cell_type": "code",
     "collapsed": false,
     "input": [
      "def mv_integrate(f, domain_x, N = 10000):\n",
      "    \"\"\"\n",
      "    Mean value Monte Carlo integration: to be completed\n",
      "    \"\"\"\n",
      "    import numpy.random\n",
      "    return I"
     ],
     "language": "python",
     "metadata": {},
     "outputs": []
    },
    {
     "cell_type": "markdown",
     "metadata": {},
     "source": [
      "Let's look at the accuracy of this method again applied to computing $\\pi$."
     ]
    },
    {
     "cell_type": "code",
     "collapsed": false,
     "input": [],
     "language": "python",
     "metadata": {},
     "outputs": []
    },
    {
     "cell_type": "markdown",
     "metadata": {},
     "source": [
      "The convergence *rate* is the same (only roughly, typically), but the Mean Value method is *expected* to be better in terms of its absolute error."
     ]
    },
    {
     "cell_type": "heading",
     "level": 3,
     "metadata": {},
     "source": [
      "Dimensionality"
     ]
    },
    {
     "cell_type": "markdown",
     "metadata": {},
     "source": [
      "Compared to standard integration methods (Gauss quadrature, Simpson's rule, etc) the convergence rate for Monte Carlo methods is very slow. However, there is one crucial advantage: as you change dimension, the amount of calculation required is *unchanged*, whereas for standard methods it grows geometrically with the dimension."
     ]
    },
    {
     "cell_type": "markdown",
     "metadata": {},
     "source": [
      "Try to compute the volume of an $n$-dimensional unit *hypersphere*, which is the object in $\\mathbb{R}^n$ such that\n",
      "\n",
      "$$\n",
      "\\begin{equation}\n",
      "  \\sum_{i=1}^n x_i^2 \\le 1.\n",
      "\\end{equation}\n",
      "$$\n",
      "\n",
      "The volume of the hypersphere [can be found in closed form](http://en.wikipedia.org/wiki/Volume_of_an_n-ball#The_volume), but can rapidly be computed using the Monte Carlo method above, by counting the $k$ points that randomly fall within the hypersphere and using the standard formula $I \\simeq V k / N$."
     ]
    },
    {
     "cell_type": "code",
     "collapsed": false,
     "input": [
      "def mc_integrate_multid(f, domain, N = 10000):\n",
      "    \"\"\"\n",
      "    Monte Carlo integration in arbitrary dimensions (read from the size of the domain): to be completed\n",
      "    \"\"\"\n",
      "    \n",
      "    return I"
     ],
     "language": "python",
     "metadata": {},
     "outputs": []
    },
    {
     "cell_type": "code",
     "collapsed": false,
     "input": [
      "import scipy.special"
     ],
     "language": "python",
     "metadata": {},
     "outputs": []
    },
    {
     "cell_type": "code",
     "collapsed": false,
     "input": [
      "def volume_hypersphere(ndim=3):\n",
      "    return np.pi**(float(ndim)/2.0) / scipy.special.gamma(float(ndim)/2.0 + 1.0)"
     ],
     "language": "python",
     "metadata": {},
     "outputs": []
    },
    {
     "cell_type": "markdown",
     "metadata": {},
     "source": [
      "Now let us repeat this across multiple dimensions."
     ]
    },
    {
     "cell_type": "markdown",
     "metadata": {},
     "source": [
      "The errors clearly vary over a range, but the convergence remains roughly as $N^{-1/2}$ independent of the dimension; using other techniques such as Gauss quadrature would see the points required scaling geometrically with the dimension."
     ]
    },
    {
     "cell_type": "heading",
     "level": 2,
     "metadata": {},
     "source": [
      "Importance sampling"
     ]
    },
    {
     "cell_type": "markdown",
     "metadata": {},
     "source": [
      "Consider the integral (which arises, for example, in the theory of Fermi gases)\n",
      "\n",
      "$$\n",
      "\\begin{equation}\n",
      "  I = \\int_0^1 \\frac{x^{-1/2}}{e^x + 1} \\, dx.\n",
      "\\end{equation}\n",
      "$$\n",
      "\n",
      "This has a finite value, but the integrand diverges as $x \\to 0$. This *may* cause a problem for Monte Carlo integration when a single value may give a spuriously large contribution to the sum."
     ]
    },
    {
     "cell_type": "markdown",
     "metadata": {},
     "source": [
      "We can get around this by changing the points at which the integrand is sampled. Choose a *weighting* function $w(x)$. Then a weighted average of any function $g(x)$ can be\n",
      "\n",
      "$$\n",
      "\\begin{equation}\n",
      "  <g>_w = \\frac{\\int_a^b w(x) g(x) \\, dx}{\\int_a^b w(x) \\, dx}.\n",
      "\\end{equation}\n",
      "$$\n",
      "\n",
      "As our integral is\n",
      "\n",
      "$$\n",
      "\\begin{equation}\n",
      "  I = \\int_a^b f(x) \\, dx\n",
      "\\end{equation}\n",
      "$$\n",
      "\n",
      "we can, by setting $g(x) = f(x) / w(x)$ get\n",
      "\n",
      "$$\n",
      "\\begin{equation}\n",
      "  I = \\int_a^b f(x) \\, dx = \\left< \\frac{f(x)}{w(x)} \\right>_w \\int_a^b w(x) \\, dx.\n",
      "\\end{equation}\n",
      "$$\n",
      "\n",
      "This gives\n",
      "\n",
      "$$\n",
      "\\begin{equation}\n",
      "  I \\simeq \\frac{1}{N} \\sum_{i=1}^N \\frac{f(x_i)}{w(x_i)} \\int_a^b w(x) \\, dx,\n",
      "\\end{equation}\n",
      "$$\n",
      "\n",
      "where the points $x_i$ are now chosen from a *non-uniform* probability distribution with pdf\n",
      "\n",
      "$$\n",
      "\\begin{equation}\n",
      "  p(x) = \\frac{w(x)}{\\int_a^b w(x) \\, dx}.\n",
      "\\end{equation}\n",
      "$$"
     ]
    },
    {
     "cell_type": "markdown",
     "metadata": {},
     "source": [
      "This is a generalization of the mean value method - we clearly recover the mean value method when the weighting function $w(x) \\equiv 1$. A careful choice of the weighting function can mitigate problematic regions of the integrand; e.g., in the example above we could choose $w(x) = x^{-1/2}$, giving $p(x) = x^{-1/2}/2$."
     ]
    },
    {
     "cell_type": "markdown",
     "metadata": {},
     "source": [
      "So, let's try to solve the integral above. The expected solution is around 0.84."
     ]
    },
    {
     "cell_type": "code",
     "collapsed": false,
     "input": [],
     "language": "python",
     "metadata": {},
     "outputs": []
    }
   ],
   "metadata": {}
  }
 ]
}