{
 "metadata": {
  "name": "",
  "signature": "sha256:017001de1f3f426a4f885d6d0524bca6536b3a0881dd776697667bfaac0cd746"
 },
 "nbformat": 3,
 "nbformat_minor": 0,
 "worksheets": [
  {
   "cells": [
    {
     "cell_type": "heading",
     "level": 1,
     "metadata": {},
     "source": [
      "Stochastic differential equations"
     ]
    },
    {
     "cell_type": "markdown",
     "metadata": {},
     "source": [
      "Suggested references:\n",
      "\n",
      "C Gardiner, *Stochastic Methods: A Handbook for the Natural and Social Sciences*, Springer.\n",
      "\n",
      "D Higham, *An algorithmic introduction to Stochastic Differential Equations*, SIAM Review."
     ]
    },
    {
     "cell_type": "heading",
     "level": 2,
     "metadata": {},
     "source": [
      "Kostas Zygalakis"
     ]
    },
    {
     "cell_type": "markdown",
     "metadata": {},
     "source": [
      "Statement of problem: given function $g \\left( X^{(1)}, X^{(2)}, \\dots, X^{(n)}, X, s \\right) = 0$ defining an $n$-th order differential equation\n",
      "\n",
      "$$\n",
      "\\begin{equation}\n",
      "  \\frac{dX}{ds} = f \\left( X(s) \\right)\n",
      "\\end{equation}\n",
      "$$\n",
      "\n",
      "where we refer to $f$ as the *drift function* for reasons that will become clear later."
     ]
    },
    {
     "cell_type": "markdown",
     "metadata": {},
     "source": [
      "The formal solution to this equation is\n",
      "\n",
      "$$\n",
      "\\begin{equation}\n",
      "  X(t) = X_0 + \\int_0^t f \\left( X(s) \\right) \\, ds.\n",
      "\\end{equation}\n",
      "$$"
     ]
    },
    {
     "cell_type": "markdown",
     "metadata": {},
     "source": [
      "Note a simple example. Given \n",
      "\n",
      "$$\n",
      "\\begin{equation}\n",
      "  \\frac{dX}{ds} = a X(s) \\quad \\implies \\quad X(s) = X_0 e^{a s} \\rightarrow_{s \\rightarrow + \\infty} \n",
      "  \\begin{cases} \\infty & a > 0 \\\\ 0 & a < 0. \\end{cases}\n",
      "\\end{equation}\n",
      "$$"
     ]
    },
    {
     "cell_type": "heading",
     "level": 5,
     "metadata": {},
     "source": [
      "Exercise"
     ]
    },
    {
     "cell_type": "markdown",
     "metadata": {},
     "source": [
      "$$\n",
      "\\begin{equation}\n",
      "  \\frac{dX}{ds} = f(x), \\quad f(x) = \\sqrt{x}, \\quad X_0 = 0.\n",
      "\\end{equation}\n",
      "$$\n",
      "\n",
      "Solve this and think about *how many* solutions may exist."
     ]
    },
    {
     "cell_type": "heading",
     "level": 2,
     "metadata": {},
     "source": [
      "Motivating numerical solutions"
     ]
    },
    {
     "cell_type": "markdown",
     "metadata": {},
     "source": [
      "Think about the *integral form* of the differential equation\n",
      "\n",
      "$$\n",
      "\\begin{equation}\n",
      "  X(t + h) - X(t) = \\int_t^{t+h} f \\left( X(s) \\right) \\, ds \\approx \\begin{cases} f \\left( X(t) \\right) \\, h & \\\\ f \\left( X(t+h) \\right) \\, h & \\end{cases}.\n",
      "\\end{equation}\n",
      "$$"
     ]
    },
    {
     "cell_type": "markdown",
     "metadata": {},
     "source": [
      "**Picture here**"
     ]
    },
    {
     "cell_type": "markdown",
     "metadata": {},
     "source": [
      "This gives two numerical methods:\n",
      "\n",
      "$$\n",
      "\\begin{align}\n",
      "  X(t+h) - X(t) & \\approx f \\left( X(t) \\right) \\, h && \\leftrightarrow & X_{n+1} - X_n & = f(X_n) \\, h & \\text{Explicit Euler}, \\\\\n",
      "  X(t+h) - X(t) & \\approx f \\left( X(t+h) \\right) \\, h && \\leftrightarrow & X_{n+1} - X_n & = f(X_{n+1}) \\, h & \\text{Implicit Euler}.\n",
      "\\end{align}\n",
      "$$"
     ]
    },
    {
     "cell_type": "markdown",
     "metadata": {},
     "source": [
      "Both these methods are *first order* in the sense that, given an *approximate* solution $X^h(t)$ and the *exact* solution $X(t)$, we have that\n",
      "\n",
      "$$\n",
      "\\begin{equation}\n",
      "  | X(T) - X^h(T) | \\le C(T) h\n",
      "\\end{equation}\n",
      "$$\n",
      "\n",
      "where $C(T)$ is a constant depending only on the time at which this is evaluated."
     ]
    },
    {
     "cell_type": "heading",
     "level": 3,
     "metadata": {},
     "source": [
      "Key example"
     ]
    },
    {
     "cell_type": "markdown",
     "metadata": {},
     "source": [
      "Apply the explicit Euler method to the simple problem\n",
      "\n",
      "$$\n",
      "\\begin{equation}\n",
      "  \\frac{dX}{dt} = -a x, \\qquad a \\gg 1.\n",
      "\\end{equation}\n",
      "$$\n",
      "\n",
      "This is a *stiff* problem."
     ]
    },
    {
     "cell_type": "markdown",
     "metadata": {},
     "source": [
      "The algorithm becomes\n",
      "\n",
      "$$\n",
      "\\begin{align}\n",
      "  && X_{n+1} - X_n & = - a X_n h \\\\\n",
      "  \\implies && X_{n+1} & = X_n \\left( 1 - a h \\right).\n",
      "\\end{align}\n",
      "$$\n",
      "\n",
      "This will only *converge* to the correct answer (0!) when  $|1 - a h| < 1$ which implies $h < 2 / a$ (as $h > 0$). When $a \\gg 1$ this is a severe restriction."
     ]
    },
    {
     "cell_type": "heading",
     "level": 6,
     "metadata": {},
     "source": [
      "Exercise"
     ]
    },
    {
     "cell_type": "markdown",
     "metadata": {},
     "source": [
      "Compute the step size restriction for the *implicit* Euler method."
     ]
    },
    {
     "cell_type": "heading",
     "level": 2,
     "metadata": {},
     "source": [
      "Modelling with Stochastic Differential Equations."
     ]
    },
    {
     "cell_type": "markdown",
     "metadata": {},
     "source": [
      "What are we trying to do? Consider the motivating example\n",
      "\n",
      "$$\n",
      "\\begin{equation}\n",
      "  \\frac{dX}{ds} = \\left( a + \\text{\"error\"} \\right) X(s), \\quad X(0) = X_0.\n",
      "\\end{equation}\n",
      "$$\n",
      "\n",
      "The \"error\" should average to zero."
     ]
    },
    {
     "cell_type": "markdown",
     "metadata": {},
     "source": [
      "More formal definition is\n",
      "\n",
      "$$\n",
      "\\begin{equation}\n",
      "  X(t, \\omega) = X_0 + \\int_0^t f \\left( X(s, \\omega) \\right) \\, ds + \\underbrace{\\sigma B \\left( t, \\omega \\right)}_{= \\sigma \\int_0^t dB(\\omega, s)}.\n",
      "\\end{equation}\n",
      "$$\n",
      "\n",
      "Each time I repeat the experiment I get a *different answer*. The first part is \"deterministic\" and looks like the ODE; the latter part is new."
     ]
    },
    {
     "cell_type": "markdown",
     "metadata": {},
     "source": [
      "Now, we list some assumptions of varying strengths.\n",
      "\n",
      "**Assumption 1**. It should be clear that $B(0, \\omega) = 0$ (no \"error\" accumulation at the initial time)."
     ]
    },
    {
     "cell_type": "markdown",
     "metadata": {},
     "source": [
      "We can also look at two *close* points in time to see that\n",
      "\n",
      "$$\n",
      "\\begin{equation}\n",
      "  X(t+h, \\omega) - X(t, \\omega) = \\int_t^{t+h} f\\left( X(s, \\omega) \\right) \\, ds + \\sigma \\left( B(t+h, \\omega) - B(t, \\omega) \\right).\n",
      "\\end{equation}\n",
      "$$\n",
      "\n",
      "**Assumption 2**. Given our discussion we assume\n",
      "\n",
      "$$\n",
      "  \\mathbb{E} \\left( B(t+h, \\omega) - B(t, \\omega) \\right) = 0.\n",
      "$$\n"
     ]
    },
    {
     "cell_type": "markdown",
     "metadata": {},
     "source": [
      "We now drop $\\omega$ from the notation to make explicit\n",
      "\n",
      "**Assumption 3**. An independence assumption:\n",
      "\n",
      "$$\n",
      "\\begin{equation}\n",
      "  B(t_2) - B(t_1) \\underbrace{\\perp}_{\\text{independent}} B(s_2) - B(s_1) \\quad \\text{for all times } s_1 < s_2 < t_1 < t_2.\n",
      "\\end{equation}\n",
      "$$"
     ]
    },
    {
     "cell_type": "markdown",
     "metadata": {},
     "source": [
      "**Assumption 4**. Final independence assumption: $B(t+h) - B(t)$ depends only on $|h|$ and not on $t$."
     ]
    },
    {
     "cell_type": "markdown",
     "metadata": {},
     "source": [
      "The last two assumptions (assumptions 3 and 4) suggest that this is a \"pure\" error term - that it has no predictable structure."
     ]
    },
    {
     "cell_type": "heading",
     "level": 2,
     "metadata": {},
     "source": [
      "Brownian motion"
     ]
    },
    {
     "cell_type": "markdown",
     "metadata": {},
     "source": [
      "The error term, or *Brownian motion*, or *Wiener process* we will define satisfies:\n",
      "\n",
      "1. $B(0) = 0$.\n",
      "2. $B(t) - B(s) \\sim N(0, |t - s|)$.\n",
      "3. $\\text{Cov} \\left( B(t), B(s) \\right) = \\mathbb{E}((B(t) - \\mathbb{E}(B(t))) (B(s) - \\mathbb{E}(B(s))))) = \\min \\{ s, t \\}$."
     ]
    },
    {
     "cell_type": "heading",
     "level": 2,
     "metadata": {},
     "source": [
      "Stochastic integral"
     ]
    },
    {
     "cell_type": "markdown",
     "metadata": {},
     "source": [
      "We write this as\n",
      "\n",
      "$$\n",
      "\\begin{equation}\n",
      "  \\int_0^t G(s) \\, dB(s).\n",
      "\\end{equation}\n",
      "$$"
     ]
    },
    {
     "cell_type": "markdown",
     "metadata": {},
     "source": [
      "This is slightly odd as we're integrating against a random process. What we're aiming for is a way of solving (in the *integral form*) the SDE\n",
      "\n",
      "$$\n",
      "\\begin{equation}\n",
      "  \\frac{dX}{ds} = f(X(s)) + g(X(s)) \\frac{dB}{ds}\n",
      "\\end{equation}\n",
      "$$"
     ]
    },
    {
     "cell_type": "heading",
     "level": 2,
     "metadata": {},
     "source": [
      "Generating the Brownian motion"
     ]
    },
    {
     "cell_type": "markdown",
     "metadata": {},
     "source": [
      "Split the interval $[0, T]$ into segments length $h$. On each segment we want the *increment* to be a normally distributed random variable, $N(0, h)$. "
     ]
    },
    {
     "cell_type": "code",
     "collapsed": false,
     "input": [
      "%matplotlib inline\n",
      "import matplotlib.pyplot as plt\n",
      "import numpy as np"
     ],
     "language": "python",
     "metadata": {},
     "outputs": [],
     "prompt_number": 1
    },
    {
     "cell_type": "code",
     "collapsed": false,
     "input": [
      "T = 1.0\n",
      "h = 0.01\n",
      "N = int(T/h)\n",
      "\n",
      "t = np.linspace(0.0, T, N)\n",
      "dW = np.sqrt(h) * np.random.randn(N)\n",
      "W = np.cumsum(dW) - dW[0]"
     ],
     "language": "python",
     "metadata": {},
     "outputs": [],
     "prompt_number": 2
    },
    {
     "cell_type": "code",
     "collapsed": false,
     "input": [
      "plt.plot(t, W)\n",
      "plt.xlabel(r\"$t$\")\n",
      "plt.ylabel(r\"$B(t)$\");"
     ],
     "language": "python",
     "metadata": {},
     "outputs": [
      {
       "metadata": {},
       "output_type": "pyout",
       "prompt_number": 4,
       "text": [
        "<matplotlib.text.Text at 0x106853a58>"
       ]
      },
      {
       "metadata": {},
       "output_type": "display_data",
       "png": "[encoded data removed]",
       "text": [
        "<matplotlib.figure.Figure at 0x106821198>"
       ]
      }
     ],
     "prompt_number": 4
    },
    {
     "cell_type": "markdown",
     "metadata": {},
     "source": [
      "Rerun this to see that it changes. Rerun again with a smaller $h$. You'll see it gets \"spikier\". In the limit as $h \\to 0$ the function is *not* differentiable."
     ]
    },
    {
     "cell_type": "heading",
     "level": 4,
     "metadata": {},
     "source": [
      "Generating more paths"
     ]
    },
    {
     "cell_type": "code",
     "collapsed": false,
     "input": [
      "M = 5\n",
      "dW = np.sqrt(h) * np.random.randn(N, M)\n",
      "W = np.cumsum(dW, axis = 0) - dW[0, :]\n",
      "plt.plot(t, W)\n",
      "plt.xlabel(r\"$t$\")\n",
      "plt.ylabel(r\"$B(t)$\");"
     ],
     "language": "python",
     "metadata": {},
     "outputs": [
      {
       "metadata": {},
       "output_type": "display_data",
       "png": "[encoded data removed]",
       "text": [
        "<matplotlib.figure.Figure at 0x106be4b38>"
       ]
      }
     ],
     "prompt_number": 6
    },
    {
     "cell_type": "heading",
     "level": 2,
     "metadata": {},
     "source": [
      "Algorithms for integrals"
     ]
    },
    {
     "cell_type": "markdown",
     "metadata": {},
     "source": [
      "Try to solve\n",
      "\n",
      "$$\n",
      "\\begin{equation}\n",
      "  \\int_{0}^T B(s) \\, dB(s) \\ne \\frac{1}{2} \\left( B^2(T) - B^2(0) \\right)\n",
      "\\end{equation}\n",
      "$$\n",
      "\n",
      "which would be the \"normal\" calculus result."
     ]
    },
    {
     "cell_type": "markdown",
     "metadata": {},
     "source": [
      "Instead do the \"natural\" (or naive) partial sum thing:\n",
      "\n",
      "$$\n",
      "\\begin{equation}\n",
      "  S_n = \\sum_{i=1}^n B(\\tau_i) \\left( B(t_i) - B(t_{i-1} \\right), \\qquad t_{i-1} \\le \\tau_i \\le t_i\n",
      "\\end{equation}\n",
      "$$"
     ]
    },
    {
     "cell_type": "markdown",
     "metadata": {},
     "source": [
      "This is a *random variable*, as $B$ is a random variable. So this has a mean, variance, higher moments..."
     ]
    },
    {
     "cell_type": "markdown",
     "metadata": {},
     "source": [
      "This means that, depending on how you choose your $\\tau_i$, you will get **different** answers for the **exact** solution!"
     ]
    },
    {
     "cell_type": "markdown",
     "metadata": {},
     "source": [
      "$$\n",
      "\\begin{align}\n",
      "  < S_n > & = < \\sum_{i=1}^n B(\\tau_i) [ B(t_i) - B(t_{i-1})] > \\\\\n",
      "  & = \\sum_{i=1}^n \\left[ \\min(\\tau_i, t_i) - \\min(\\tau_i, t_{i-1}) \\right] \\\\\n",
      "  & = \\sum_{i=1}^n (\\tau_i - t_{i-1}) \\\\\n",
      "  & = ( t - t_0 ) a,\n",
      "\\end{align}\n",
      "$$\n",
      "\n",
      "where $a$ is the relative distance between $t_{i-1}$ and $t_i$ at which $\\tau_i$ is located, using the earlier property $< B(t), B(s) > = \\min\\{t, s\\}$."
     ]
    },
    {
     "cell_type": "markdown",
     "metadata": {},
     "source": [
      "The Ito integral uses $a = 0$ so that $\\tau_i = t_{i-1}$. This implies $< S_n > = 0$."
     ]
    },
    {
     "cell_type": "code",
     "collapsed": false,
     "input": [],
     "language": "python",
     "metadata": {},
     "outputs": []
    }
   ],
   "metadata": {}
  }
 ]
}