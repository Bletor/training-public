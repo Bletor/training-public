{
 "metadata": {
  "name": "",
  "signature": "sha256:34076e2e8921637fbe2e11e346bafe1e89268856e4502ff64306770f6a0e6825"
 },
 "nbformat": 3,
 "nbformat_minor": 0,
 "worksheets": [
  {
   "cells": [
    {
     "cell_type": "heading",
     "level": 1,
     "metadata": {},
     "source": [
      "High Resolution Shock Capturing Methods: Lab 2"
     ]
    },
    {
     "cell_type": "code",
     "collapsed": false,
     "input": [
      "from IPython.core.display import HTML\n",
      "css_file = '../ipython_notebook_styles/ngcmstyle.css'\n",
      "HTML(open(css_file, \"r\").read())"
     ],
     "language": "python",
     "metadata": {},
     "outputs": [
      {
       "html": [
        "<link href='http://fonts.googleapis.com/css?family=Open+Sans:100,300,400,500,700,800,900,100italic,300italic,400italic,500italic,700italic,800italic,900italic' rel='stylesheet' type='text/css'>\n",
        "<link href='http://fonts.googleapis.com/css?family=Arvo:400,700,400italic' rel='stylesheet' type='text/css'>\n",
        "<link href='http://fonts.googleapis.com/css?family=PT+Mono' rel='stylesheet' type='text/css'>\n",
        "<link href='http://fonts.googleapis.com/css?family=Shadows+Into+Light' rel='stylesheet' type='text/css'>\n",
        "<link href='http://fonts.googleapis.com/css?family=Nixie+One' rel='stylesheet' type='text/css'>\n",
        "<style>\n",
        "\n",
        "@font-face {\n",
        "    font-family: \"Computer Modern\";\n",
        "    src: url('http://mirrors.ctan.org/fonts/cm-unicode/fonts/otf/cmunss.otf');\n",
        "}\n",
        "\n",
        "#notebook_panel { /* main background */\n",
        "    background: rgb(245,245,245);\n",
        "}\n",
        "\n",
        "div.cell { /* set cell width */\n",
        "    width: 1000px;\n",
        "}\n",
        "\n",
        "div #notebook { /* centre the content */\n",
        "    background: #fff; /* white background for content */\n",
        "    width: 1200px;\n",
        "    margin: auto;\n",
        "    padding-left: 0em;\n",
        "}\n",
        "\n",
        "#notebook li { /* More space between bullet points */\n",
        "margin-top:0.8em;\n",
        "}\n",
        "\n",
        "/* draw border around running cells */\n",
        "div.cell.border-box-sizing.code_cell.running { \n",
        "    border: 1px solid #111;\n",
        "}\n",
        "\n",
        "/* Put a solid color box around each cell and its output, visually linking them*/\n",
        "div.cell.code_cell {\n",
        "    background-color: rgb(256,256,256); \n",
        "    border-radius: 0px; \n",
        "    padding: 0.5em;\n",
        "    margin-left:1em;\n",
        "    margin-top: 1em;\n",
        "}\n",
        "\n",
        "div.text_cell_render{\n",
        "    font-family: 'Open Sans' sans-serif;\n",
        "    line-height: 140%;\n",
        "    font-size: 125%;\n",
        "    font-weight: 400;\n",
        "    width:900px;\n",
        "    margin-left:auto;\n",
        "    margin-right:auto;\n",
        "}\n",
        "\n",
        "\n",
        "/* Formatting for header cells */\n",
        ".text_cell_render h1 {\n",
        "    font-family: 'Arvo', serif;\n",
        "    font-style:regular;\n",
        "    font-weight: 400;    \n",
        "    font-size: 45pt;\n",
        "    line-height: 100%;\n",
        "    color: rgb(0,51,102);\n",
        "    margin-bottom: 0.5em;\n",
        "    margin-top: 0.5em;\n",
        "    display: block;\n",
        "}\t\n",
        ".text_cell_render h2 {\n",
        "    font-family: 'Arvo', serif;\n",
        "    font-weight: 400;\n",
        "    font-size: 30pt;\n",
        "    line-height: 100%;\n",
        "    color: rgb(0,51,102);\n",
        "    margin-bottom: 0.1em;\n",
        "    margin-top: 0.3em;\n",
        "    display: block;\n",
        "}\t\n",
        "\n",
        ".text_cell_render h3 {\n",
        "    font-family: 'Arvo', serif;\n",
        "    margin-top:16px;\n",
        "\tfont-size: 22pt;\n",
        "    font-weight: 600;\n",
        "    margin-bottom: 3px;\n",
        "    font-style: regular;\n",
        "    color: rgb(102,102,0);\n",
        "}\n",
        "\n",
        ".text_cell_render h4 {    /*Use this for captions*/\n",
        "    font-family: 'Arvo', serif;\n",
        "    font-size: 14pt;\n",
        "    text-align: center;\n",
        "    margin-top: 0em;\n",
        "    margin-bottom: 2em;\n",
        "    font-style: regular;\n",
        "}\n",
        "\n",
        ".text_cell_render h5 {  /*Use this for small titles*/\n",
        "    font-family: 'Arvo', sans-serif;\n",
        "    font-weight: 400;\n",
        "    font-size: 16pt;\n",
        "    color: rgb(163,0,0);\n",
        "    font-style: italic;\n",
        "    margin-bottom: .1em;\n",
        "    margin-top: 0.8em;\n",
        "    display: block;\n",
        "}\n",
        "\n",
        ".text_cell_render h6 { /*use this for copyright note*/\n",
        "    font-family: 'PT Mono', sans-serif;\n",
        "    font-weight: 300;\n",
        "    font-size: 9pt;\n",
        "    line-height: 100%;\n",
        "    color: grey;\n",
        "    margin-bottom: 1px;\n",
        "    margin-top: 1px;\n",
        "}\n",
        "\n",
        ".CodeMirror{\n",
        "        font-family: \"PT Mono\";\n",
        "        font-size: 90%;\n",
        "}\n",
        "\n",
        "</style>\n",
        "<script>\n",
        "    MathJax.Hub.Config({\n",
        "                        TeX: {\n",
        "                           extensions: [\"AMSmath.js\"],\n",
        "                           equationNumbers: { autoNumber: \"AMS\", useLabelIds: true}\n",
        "                           },\n",
        "                tex2jax: {\n",
        "                    inlineMath: [ ['$','$'], [\"\\\\(\",\"\\\\)\"] ],\n",
        "                    displayMath: [ ['$$','$$'], [\"\\\\[\",\"\\\\]\"] ]\n",
        "                },\n",
        "                displayAlign: 'center', // Change this to 'center' to center equations.\n",
        "                \"HTML-CSS\": {\n",
        "                    styles: {'.MathJax_Display': {\"margin\": 4}}\n",
        "                }\n",
        "        });\n",
        "</script>\n"
       ],
       "metadata": {},
       "output_type": "pyout",
       "prompt_number": 1,
       "text": [
        "<IPython.core.display.HTML at 0x1049f9ba8>"
       ]
      }
     ],
     "prompt_number": 1
    },
    {
     "cell_type": "markdown",
     "metadata": {},
     "source": [
      "Directly relevant background material can be found in eg [David Ketcheson's *HyperPython* notebooks](https://github.com/ketch/HyperPython)."
     ]
    },
    {
     "cell_type": "code",
     "collapsed": false,
     "input": [
      "%matplotlib inline\n",
      "import matplotlib.pyplot as plt\n",
      "import numpy as np"
     ],
     "language": "python",
     "metadata": {},
     "outputs": [],
     "prompt_number": 2
    },
    {
     "cell_type": "heading",
     "level": 2,
     "metadata": {},
     "source": [
      "Systems"
     ]
    },
    {
     "cell_type": "markdown",
     "metadata": {},
     "source": [
      "In [lab 1](./HRSC Lab 1.ipynb) the MUSCL scheme to solve scalar conservation laws was introduced. These methods work for discontinuous solutions, capturing the behaviour without introducing spurious oscillations. However, the convergence rate is not high (but still, better slow convergence than no convergence!)."
     ]
    },
    {
     "cell_type": "markdown",
     "metadata": {},
     "source": [
      "In real life, we mostly want to solve conservation laws in \n",
      "\n",
      "1. multiple dimensions, and\n",
      "2. for systems of equations.\n",
      "\n",
      "Working in multiple dimensions is relatively straightforward - the solution method can simply be applied one dimension at a time (although there exist more specialized methods that may have greater accuracy than this approach).\n",
      "\n",
      "Moving from a scalar conservation law to a system of conservation laws is also relatively straightforward; the same reconstruction & Riemann problem solution approach will work. The main complication is the solution of the Riemann problem."
     ]
    },
    {
     "cell_type": "markdown",
     "metadata": {},
     "source": [
      "To check you can see how this would work for a simple problem, try the system\n",
      "\n",
      "$$\n",
      "\\begin{equation}\n",
      "  \\partial_t {\\bf q} + \\partial_x \\left( A {\\bf q} \\right) = {\\bf 0}, \\qquad A = \\begin{pmatrix} 1 & 0 \\\\ 0 & -1 \\end{pmatrix},\n",
      "\\end{equation}\n",
      "$$\n",
      "\n",
      "which is just a system of (uncoupled) advection equations. Implement a MUSCL scheme to solve this on the domain $x \\in [-1, 1]$ with periodic boundaries, using initial data $(\\sin(x), \\sin(x))^T$, checking the solution at various times and the convergence at $t=2$ (where the exact solution is simply the initial profile). Note that the exact solution to the Riemann problem given left and right states ${\\bf q}^{(L,R)} = (q_1^{(L,R)}, q_2^{(L,R)})^T$ is\n",
      "\n",
      "$$\n",
      "\\begin{equation}\n",
      "  {\\bf q}^{*} = \\begin{pmatrix} q_1^{(L)} \\\\ q_2^{(R)} \\end{pmatrix}\n",
      "\\end{equation}\n",
      "$$\n",
      "\n",
      "as the advection velocity for $q_1$ is positive whilst that for $q_2$ is negative."
     ]
    },
    {
     "cell_type": "code",
     "collapsed": false,
     "input": [],
     "language": "python",
     "metadata": {},
     "outputs": [],
     "prompt_number": 2
    },
    {
     "cell_type": "heading",
     "level": 2,
     "metadata": {},
     "source": [
      "Approximate Riemann Solvers"
     ]
    },
    {
     "cell_type": "markdown",
     "metadata": {},
     "source": [
      "It may not always be possible, and frequently is not practical, to solve the Riemann problem exactly. When this occurs, it is typical to approximate the solution of the Riemann problem, sometimes by directly approximating the intercell flux $f_{i-1/2} = f_{i-1/2}(q^{(L)}_{i-1/2}, q^{(R)}_{i-1/2})$."
     ]
    },
    {
     "cell_type": "markdown",
     "metadata": {},
     "source": [
      "The simplest (and least accurate, or most diffusive) approximate solver is given by the Lax-Friedrichs, or HLL flux. Given the left and right states for the Riemann problem, and the time and space steps, this approximates the intercell flux as\n",
      "\n",
      "$$\n",
      "\\begin{equation}\n",
      "  f_{i-1/2} = \\frac{1}{2} \\left( f \\left( q^{(L)}_{i-1/2} \\right) + f \\left( q^{(R)}_{i-1/2} \\right)  + \\frac{\\Delta x}{\\Delta t} \\left( q^{(L)}_{i-1/2} + - q^{(R)}_{i-1/2}  \\right) \\right).\n",
      "\\end{equation}\n",
      "$$\n",
      "\n",
      "[**Note**: This is not exactly the Lax-Friedrichs or HLL fluxes, which have parameters controlling the wavespeed. Here I have simplified by setting all parameters to \"safe\" values.]"
     ]
    },
    {
     "cell_type": "markdown",
     "metadata": {},
     "source": [
      "Implement this flux, and use it within your MUSCL scheme above. Compare the solution against the scheme using the exact solver."
     ]
    },
    {
     "cell_type": "code",
     "collapsed": false,
     "input": [],
     "language": "python",
     "metadata": {},
     "outputs": []
    },
    {
     "cell_type": "heading",
     "level": 2,
     "metadata": {},
     "source": [
      "Shallow water equations"
     ]
    },
    {
     "cell_type": "markdown",
     "metadata": {},
     "source": [
      "A simple nonlinear system, itself a simplification of the Navier-Stokes equations, is the shallow water equations. In non-dimensional form these are\n",
      "\n",
      "$$\n",
      "\\begin{equation}\n",
      "  \\partial_t \\begin{pmatrix} \\phi \\\\ \\phi u \\end{pmatrix} + \\partial_x \\begin{pmatrix} \\phi u \\\\ \\phi u^2 + \\tfrac{1}{2} \\phi^2 \\end{pmatrix} = {\\bf 0}.\n",
      "\\end{equation}\n",
      "$$\n",
      "\n",
      "It represents the flow of (typically incompressible) fluids in a shallow channel with a flat bottom topography; multi-dimensional versions that include topography as a source term are a standard way of simulating tsunamis, for example. Here $\\phi$ is the *geopotential* (essentially the depth of the fluid) and $u$ is the velocity."
     ]
    },
    {
     "cell_type": "markdown",
     "metadata": {},
     "source": [
      "Use your MUSCL method with the Lax-Friedrichs solver to solve a *dam-break* problem. That is, solve the shallow water equations on the domain $x \\in [-1, 1]$ with fixed boundary conditions (the solutions in the ghost cells can be copied from the previous solution), using the initial data\n",
      "\n",
      "$$\n",
      "\\begin{equation}\n",
      "  {\\bf q}(x) = \\begin{cases} {\\bf q}^{(L)} = \\begin{pmatrix} \\phi^{(L)} \\\\ \\phi^{(L)} u^{(L)} \\end{pmatrix} = \\begin{pmatrix} 3 \\\\ 0 \\end{pmatrix} & x < 0, \\\\\n",
      "  {\\bf q}^{(R)} = \\begin{pmatrix} \\phi^{(R)} \\\\ \\phi^{(R)} u^{(R)} \\end{pmatrix} = \\begin{pmatrix} 1 \\\\ 0 \\end{pmatrix} & x > 0. \\end{cases}\n",
      "\\end{equation}\n",
      "$$\n",
      "\n",
      "That is, $u^{(L,R)} = 0$, $\\phi^{(L)} = 3$, $\\phi^{(R)} = 1$. Plot the solution at $t = 0.4$, investigating how it depends on resolution.\n",
      "\n",
      "The solution should consist of a continuous *rarefaction* wave propagating to the left and a discontinuous *shock* propagating to the right."
     ]
    },
    {
     "cell_type": "code",
     "collapsed": false,
     "input": [],
     "language": "python",
     "metadata": {},
     "outputs": []
    },
    {
     "cell_type": "heading",
     "level": 2,
     "metadata": {},
     "source": [
      "Characteristics"
     ]
    },
    {
     "cell_type": "markdown",
     "metadata": {},
     "source": [
      "The solution of the Riemann problem is constant along characteristics. Analyzing the result requires calculating the characteristic structure. For this we need the Jacobian matrix $\\partial {\\bf f} / \\partial {\\bf q}$, and its eigenvectors and eigenvalues. In order for this information to be practically useful in a real algorithm it needs calculating analytically."
     ]
    },
    {
     "cell_type": "markdown",
     "metadata": {},
     "source": [
      "Calculate the Jacobian matrix for the shallow water equations. Also calculate its eigenvalues $\\lambda^{\\pm}$, and the left (${\\bf l}^{\\pm}$) and right (${\\bf r}^{\\pm}$) eigenvectors. The eigenvectors should be normalized so that ${\\bf l}^i \\cdot {\\bf r}^j = \\delta^{ij}$; that is, the eigenvectors are orthonormal. "
     ]
    },
    {
     "cell_type": "markdown",
     "metadata": {},
     "source": [
      "You'll want to look at `sympy`, and the commands `symbols`, `Matrix`, `diff`, `inv` and `eigenvects`."
     ]
    },
    {
     "cell_type": "code",
     "collapsed": false,
     "input": [
      "import sympy"
     ],
     "language": "python",
     "metadata": {},
     "outputs": [],
     "prompt_number": 7
    },
    {
     "cell_type": "code",
     "collapsed": false,
     "input": [],
     "language": "python",
     "metadata": {},
     "outputs": [],
     "prompt_number": 26
    },
    {
     "cell_type": "markdown",
     "metadata": {},
     "source": [
      "Calculate the characteristic speeds in the dam-break problem initial data. Use this to confirm that the wave structure is as expected."
     ]
    },
    {
     "cell_type": "code",
     "collapsed": false,
     "input": [],
     "language": "python",
     "metadata": {},
     "outputs": []
    },
    {
     "cell_type": "markdown",
     "metadata": {},
     "source": [
      "Use the equation across the rarefaction curve\n",
      "\n",
      "$$\n",
      "\\begin{equation}\n",
      "  \\frac{\\partial}{\\partial \\xi} {\\bf q} = \\frac{{\\bf r}^{\\pm}}{{\\bf r}^{\\pm} \\cdot \\frac{\\partial \\lambda^{\\pm}}{\\partial {\\bf q}}}\n",
      "\\end{equation}\n",
      "$$\n",
      "\n",
      "to find the solution across the rarefaction wave."
     ]
    },
    {
     "cell_type": "code",
     "collapsed": false,
     "input": [],
     "language": "python",
     "metadata": {},
     "outputs": []
    }
   ],
   "metadata": {}
  }
 ]
}