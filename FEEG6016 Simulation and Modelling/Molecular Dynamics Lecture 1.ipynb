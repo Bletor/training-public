{
 "metadata": {
  "name": "",
  "signature": "sha256:6aa6c596ad2cf6c93a10705120ff26f8660cdce937615bf6db47c7da40c9935a"
 },
 "nbformat": 3,
 "nbformat_minor": 0,
 "worksheets": [
  {
   "cells": [
    {
     "cell_type": "heading",
     "level": 1,
     "metadata": {},
     "source": [
      "Molecular Dynamics"
     ]
    },
    {
     "cell_type": "heading",
     "level": 5,
     "metadata": {},
     "source": [
      "Syma Khalid"
     ]
    },
    {
     "cell_type": "code",
     "collapsed": false,
     "input": [
      "from IPython.core.display import HTML\n",
      "css_file = '../ipython_notebook_styles/ngcmstyle.css'\n",
      "HTML(open(css_file, \"r\").read())"
     ],
     "language": "python",
     "metadata": {},
     "outputs": [
      {
       "html": [
        "<link href='http://fonts.googleapis.com/css?family=Open+Sans:100,300,400,500,700,800,900,100italic,300italic,400italic,500italic,700italic,800italic,900italic' rel='stylesheet' type='text/css'>\n",
        "<link href='http://fonts.googleapis.com/css?family=Arvo:400,700,400italic' rel='stylesheet' type='text/css'>\n",
        "<link href='http://fonts.googleapis.com/css?family=PT+Mono' rel='stylesheet' type='text/css'>\n",
        "<link href='http://fonts.googleapis.com/css?family=Shadows+Into+Light' rel='stylesheet' type='text/css'>\n",
        "<link href='http://fonts.googleapis.com/css?family=Nixie+One' rel='stylesheet' type='text/css'>\n",
        "<style>\n",
        "\n",
        "@font-face {\n",
        "    font-family: \"Computer Modern\";\n",
        "    src: url('http://mirrors.ctan.org/fonts/cm-unicode/fonts/otf/cmunss.otf');\n",
        "}\n",
        "\n",
        "#notebook_panel { /* main background */\n",
        "    background: rgb(245,245,245);\n",
        "}\n",
        "\n",
        "div.cell { /* set cell width */\n",
        "    width: 1000px;\n",
        "}\n",
        "\n",
        "div #notebook { /* centre the content */\n",
        "    background: #fff; /* white background for content */\n",
        "    width: 1200px;\n",
        "    margin: auto;\n",
        "    padding-left: 0em;\n",
        "}\n",
        "\n",
        "#notebook li { /* More space between bullet points */\n",
        "margin-top:0.8em;\n",
        "}\n",
        "\n",
        "/* draw border around running cells */\n",
        "div.cell.border-box-sizing.code_cell.running { \n",
        "    border: 1px solid #111;\n",
        "}\n",
        "\n",
        "/* Put a solid color box around each cell and its output, visually linking them*/\n",
        "div.cell.code_cell {\n",
        "    background-color: rgb(256,256,256); \n",
        "    border-radius: 0px; \n",
        "    padding: 0.5em;\n",
        "    margin-left:1em;\n",
        "    margin-top: 1em;\n",
        "}\n",
        "\n",
        "div.text_cell_render{\n",
        "    font-family: 'Open Sans' sans-serif;\n",
        "    line-height: 140%;\n",
        "    font-size: 125%;\n",
        "    font-weight: 400;\n",
        "    width:900px;\n",
        "    margin-left:auto;\n",
        "    margin-right:auto;\n",
        "}\n",
        "\n",
        "\n",
        "/* Formatting for header cells */\n",
        ".text_cell_render h1 {\n",
        "    font-family: 'Arvo', serif;\n",
        "    font-style:regular;\n",
        "    font-weight: 400;    \n",
        "    font-size: 45pt;\n",
        "    line-height: 100%;\n",
        "    color: rgb(0,51,102);\n",
        "    margin-bottom: 0.5em;\n",
        "    margin-top: 0.5em;\n",
        "    display: block;\n",
        "}\t\n",
        ".text_cell_render h2 {\n",
        "    font-family: 'Arvo', serif;\n",
        "    font-weight: 400;\n",
        "    font-size: 30pt;\n",
        "    line-height: 100%;\n",
        "    color: rgb(0,51,102);\n",
        "    margin-bottom: 0.1em;\n",
        "    margin-top: 0.3em;\n",
        "    display: block;\n",
        "}\t\n",
        "\n",
        ".text_cell_render h3 {\n",
        "    font-family: 'Arvo', serif;\n",
        "    margin-top:16px;\n",
        "\tfont-size: 22pt;\n",
        "    font-weight: 600;\n",
        "    margin-bottom: 3px;\n",
        "    font-style: regular;\n",
        "    color: rgb(102,102,0);\n",
        "}\n",
        "\n",
        ".text_cell_render h4 {    /*Use this for captions*/\n",
        "    font-family: 'Arvo', serif;\n",
        "    font-size: 14pt;\n",
        "    text-align: center;\n",
        "    margin-top: 0em;\n",
        "    margin-bottom: 2em;\n",
        "    font-style: regular;\n",
        "}\n",
        "\n",
        ".text_cell_render h5 {  /*Use this for small titles*/\n",
        "    font-family: 'Arvo', sans-serif;\n",
        "    font-weight: 400;\n",
        "    font-size: 16pt;\n",
        "    color: rgb(163,0,0);\n",
        "    font-style: italic;\n",
        "    margin-bottom: .1em;\n",
        "    margin-top: 0.8em;\n",
        "    display: block;\n",
        "}\n",
        "\n",
        ".text_cell_render h6 { /*use this for copyright note*/\n",
        "    font-family: 'PT Mono', sans-serif;\n",
        "    font-weight: 300;\n",
        "    font-size: 9pt;\n",
        "    line-height: 100%;\n",
        "    color: grey;\n",
        "    margin-bottom: 1px;\n",
        "    margin-top: 1px;\n",
        "}\n",
        "\n",
        ".CodeMirror{\n",
        "        font-family: \"PT Mono\";\n",
        "        font-size: 90%;\n",
        "}\n",
        "\n",
        "</style>\n",
        "<script>\n",
        "    MathJax.Hub.Config({\n",
        "                        TeX: {\n",
        "                           extensions: [\"AMSmath.js\"],\n",
        "                           equationNumbers: { autoNumber: \"AMS\", useLabelIds: true}\n",
        "                           },\n",
        "                tex2jax: {\n",
        "                    inlineMath: [ ['$','$'], [\"\\\\(\",\"\\\\)\"] ],\n",
        "                    displayMath: [ ['$$','$$'], [\"\\\\[\",\"\\\\]\"] ]\n",
        "                },\n",
        "                displayAlign: 'center', // Change this to 'center' to center equations.\n",
        "                \"HTML-CSS\": {\n",
        "                    styles: {'.MathJax_Display': {\"margin\": 4}}\n",
        "                }\n",
        "        });\n",
        "</script>\n"
       ],
       "metadata": {},
       "output_type": "pyout",
       "prompt_number": 1,
       "text": [
        "<IPython.core.display.HTML at 0x1049f3cc0>"
       ]
      }
     ],
     "prompt_number": 1
    },
    {
     "cell_type": "heading",
     "level": 2,
     "metadata": {},
     "source": [
      "Introduction"
     ]
    },
    {
     "cell_type": "markdown",
     "metadata": {},
     "source": [
      "Everything that will be done is classical; done in terms of Newtonian physics. Particles will be spherical balls, forces given by harmonic oscillator springs. This *cartoon* model is useful for quite complex situations."
     ]
    },
    {
     "cell_type": "markdown",
     "metadata": {},
     "source": [
      "The two lectures will be on\n",
      "\n",
      "* Molecular mechanics force fields (functional forms and parameterisation).\n",
      "* Energy minisation.\n",
      "* Moleculr dynamics simulations\n",
      "* Analysis and enhanced sampling methods."
     ]
    },
    {
     "cell_type": "heading",
     "level": 3,
     "metadata": {},
     "source": [
      "Recommended reading"
     ]
    },
    {
     "cell_type": "markdown",
     "metadata": {},
     "source": [
      "* Leach\n",
      "* Grant and ..."
     ]
    },
    {
     "cell_type": "heading",
     "level": 2,
     "metadata": {},
     "source": [
      "Molecular mechanics"
     ]
    },
    {
     "cell_type": "markdown",
     "metadata": {},
     "source": [
      "Molecular mechanics is a method by which molecular systems are modelled using classical mechanics.\n",
      "\n",
      "We want to make models to predict the behaviour of molecules (changes in their structure, and how they interact with other molecules).\n",
      "\n",
      "Can't do this in the lab thanks to cost, fiddling with underlying \"physical\" parameters (masses etc), etc."
     ]
    },
    {
     "cell_type": "heading",
     "level": 2,
     "metadata": {},
     "source": [
      "Force-fields"
     ]
    },
    {
     "cell_type": "markdown",
     "metadata": {},
     "source": [
      "Underlying model is that the *potential energy* of a molecule can be described by the *force field* using the principles of classical mechanics.\n",
      "\n",
      "For a typical force field, the potential energy of the molecule is determined in terms of the \n",
      "\n",
      "* bond lengths\n",
      "* bond angles\n",
      "* dihedral angles\n",
      "* electrostatics\n",
      "* repulsion and dispersion\n",
      "* as well as the Cartesian co-ordinates of the atoms.\n",
      "\n",
      "Typically there's a massive *table* giving all this information\n",
      "\n",
      "**Essential** : Cartesian coordinates, and prescription for the force field."
     ]
    },
    {
     "cell_type": "markdown",
     "metadata": {},
     "source": [
      "These interactions are not just within a single molecule; *inter*-molecular forces are also important, as well as the standard *intra*-molecular forces."
     ]
    },
    {
     "cell_type": "heading",
     "level": 3,
     "metadata": {},
     "source": [
      "Force-fields and potential energy"
     ]
    },
    {
     "cell_type": "markdown",
     "metadata": {},
     "source": [
      "To formally relate potential energy to the positions of the atmos in our molecule of interest we use\n",
      "\n",
      "$$\n",
      "\\begin{equation}\n",
      "  \\vec{F} = m \\times \\vec{a}\n",
      "\\end{equation}\n",
      "$$\n",
      "\n",
      "Using that the acceleration $\\vec{a}$ is related to the position $\\vec{r}$ as\n",
      "\n",
      "$$\n",
      "\\begin{align}\n",
      "  \\vec{a} &= \\frac{d \\vec{v}}{d t}, \\\\\n",
      "  \\vec{v} &= \\frac{d \\vec{r}}{d t} \n",
      "\\end{align}\n",
      "$$\n",
      "\n",
      "and expressing the force as the (negative) gradient of the potential energy, \n",
      "\n",
      "$$\n",
      "\\begin{equation}\n",
      "  \\vec{F} = - \\frac{d V}{d \\vec{r}},\n",
      "\\end{equation}\n",
      "$$\n",
      "\n",
      "we can combine these results to get\n",
      "\n",
      "$$\n",
      "\\begin{equation}\n",
      "  -\\frac{d V}{d \\vec{r}_i} = m_i \\frac{d^2 \\vec{r}_i}{d t^2}.\n",
      "\\end{equation}\n",
      "$$\n",
      "\n",
      "Here $i$ is thought of as an index on the atoms making up the molecule."
     ]
    },
    {
     "cell_type": "markdown",
     "metadata": {},
     "source": [
      "For simplicity divide the foce into two parts:\n",
      "\n",
      "$$\n",
      "\\begin{equation}\n",
      "  V_{\\text{pot}} = \\sum_{\\text{bonded}} + \\sum_{\\text{non-bonded}}.\n",
      "\\end{equation}\n",
      "$$\n",
      "\n",
      "The bonded terms include bonds, angles, dihedrals (torsions).\n",
      "\n",
      "The non-bonded terms include permanent electrostatics, disperion and repulsion."
     ]
    },
    {
     "cell_type": "heading",
     "level": 3,
     "metadata": {},
     "source": [
      "Bonded terms: bonds and angles"
     ]
    },
    {
     "cell_type": "markdown",
     "metadata": {},
     "source": [
      "Usually use a harmonic potential (decent approximation):\n",
      "\n",
      "$$\n",
      "\\begin{align}\n",
      "  E &= \\sum_{\\text{bonds}} k_b (r - r_0)^2 \\\\ E &= \\sum_{\\text{angles}} k_{\\theta} ( \\theta - \\theta_0 )^2.\n",
      "\\end{align}\n",
      "$$\n",
      "\n",
      "A Morse function (where the bond \"breaks\" after a certain length, leading to a constant potential above a certain length) would be more accurate for bond length.\n",
      "\n",
      "The energetic penalty associated with deviating from the equilibrium has the same form for bond lengths *and* bond angles as shown above.\n",
      "\n",
      "Changing the $k_{b, \\theta}$ parameters will broaden or steepen the slope of the potential well"
     ]
    },
    {
     "cell_type": "heading",
     "level": 3,
     "metadata": {},
     "source": [
      "Bonded terms: dihedrals"
     ]
    },
    {
     "cell_type": "markdown",
     "metadata": {},
     "source": [
      "Cannot use a simple harmonic term for dihedral angles. This is because there's multiple configurations with the same minima, and two parameters to consider.\n",
      "\n",
      "Simplest model is to use\n",
      "\n",
      "$$\n",
      "\\begin{equation}\n",
      "  E = \\sum_{\\text{dihedrals}} A \\left[ 1 + \\cos (n \\phi - \\phi_0) \\right]\n",
      "\\end{equation}\n",
      "$$\n",
      "\n",
      "The $A$ parameter controls the amplitude of the potential, whilst the $n$ parameter controls its periodicity, and $\\phi_0$ shifts the curve along the rotation angle axis."
     ]
    },
    {
     "cell_type": "heading",
     "level": 3,
     "metadata": {},
     "source": [
      "Non-bonded terms: dispersion and repulsion"
     ]
    },
    {
     "cell_type": "markdown",
     "metadata": {},
     "source": [
      "Non-bonded energy represents the pair-wise sum of the energies of all possible interacting (non-bonded) atoms $i$ and $j$. Typically use the *Lennard-Jones* potential:\n",
      "\n",
      "$$\n",
      "\\begin{equation}\n",
      "  V(r) = 4 \\epsilon \\left[ \\left( \\frac{\\sigma}{r_{ij}} \\right)^{12} - \\left( \\frac{\\sigma}{r_{ij}} \\right)^{6} \\right].\n",
      "\\end{equation}\n",
      "$$\n",
      "\n",
      "Dispersion is always attractive, occurs at short range and rapidly falls off with distance.\n",
      "\n",
      "Repulsion occurs when the distance between interating atmos becomes slightly less than the sum of their contact radii."
     ]
    },
    {
     "cell_type": "markdown",
     "metadata": {},
     "source": [
      "The $\\epsilon$ term defines the \"stickiness\" of the potential. What is the optimum interaction between the two particles? Do they \"like\" to be near each other?\n",
      "\n",
      "The $\\sigma$ term defines the size of the particles. Hard spheres cannot inter-penetrate, so the point at which the energy begins to rise steeply is the limit of the particle."
     ]
    },
    {
     "cell_type": "heading",
     "level": 3,
     "metadata": {},
     "source": [
      "Lennard-Jones: parameters"
     ]
    },
    {
     "cell_type": "markdown",
     "metadata": {},
     "source": [
      "There are (large) tables of parameters giving the values of $\\sigma$ and $\\epsilon$ for given atoms. When the atmos mix you typically use the Lorenz-Berthelot mixing rules:\n",
      "\n",
      "$$\n",
      "\\begin{align}\n",
      "  \\sigma_{AB} & = \\tfrac{1}{2} \\left( \\sigma_{AA} + \\sigma_{BB} \\right), \\\\\n",
      "  \\epsilon_{AB} & = \\sqrt{\\epsilon_{AA} \\epsilon_{AB}}.\n",
      "\\end{align}\n",
      "$$"
     ]
    },
    {
     "cell_type": "markdown",
     "metadata": {},
     "source": [
      "**Note**: you cannot take *one part* of a force field (eg the bond length) and mix with another part of a *different* force field (eg the non-bonded terms). They're self-consistent and come as a whole."
     ]
    },
    {
     "cell_type": "heading",
     "level": 3,
     "metadata": {},
     "source": [
      "Non-bonded terms: permanent electrostatics"
     ]
    },
    {
     "cell_type": "markdown",
     "metadata": {},
     "source": [
      "Even when a molecule does not have a formal charge, because the charge distributions are not uniform the atoms have different *electronegativities*. This leads to atoms have *partial charges*. These charges are additive pairwise interactions again, *but* could be attractive *or* repulsive."
     ]
    },
    {
     "cell_type": "markdown",
     "metadata": {},
     "source": [
      "Two representations:\n",
      "\n",
      "1. Partial charges\n",
      "2. Multipole moments\n",
      "\n",
      "The former is easier to code and explain, and more efficient to code. In this case we have\n",
      "\n",
      "$$\n",
      "\\begin{equation}\n",
      "  V = \\sum_{\\text{pairs } (i, j)} \\frac{q_i q_j}{4 \\pi \\epsilon_0 r_{ij}}.\n",
      "\\end{equation}\n",
      "$$\n",
      "\n",
      "This is simply Coulomb's law.\n",
      "\n",
      "This is often the most costly term in the system to solve due to the long range interactions; often the least interesting as well, but crucial.\n",
      "\n",
      "Various ways of dealing with the long-range terms, including\n",
      "\n",
      "* Cut-off (at large distance set to a fixed value, typically not zero).\n",
      "* Reaction field (add an artificial field at large distance).\n",
      "* Ewald (most comprehensive, most complex; split the region into two parts which separately converge)."
     ]
    },
    {
     "cell_type": "heading",
     "level": 2,
     "metadata": {},
     "source": [
      "The actual simulations"
     ]
    },
    {
     "cell_type": "heading",
     "level": 3,
     "metadata": {},
     "source": [
      "Overview"
     ]
    },
    {
     "cell_type": "markdown",
     "metadata": {},
     "source": [
      "Need\n",
      "\n",
      "* Suitable initial configuration of the system (usually at equilibrium).\n",
      "* Force-field\n",
      "* Simulation parameters (temperature, pressure, etc).\n",
      "\n",
      "Then\n",
      "\n",
      "* Integration of Newton's equations of motion\n",
      "\n",
      "gives as output\n",
      "\n",
      "* A collection of configurations showing the evolution of the system over the specified timescale.\n",
      "\n",
      "This then needs to be analysed by the user."
     ]
    },
    {
     "cell_type": "heading",
     "level": 3,
     "metadata": {},
     "source": [
      "Newton's equations of motion"
     ]
    },
    {
     "cell_type": "markdown",
     "metadata": {},
     "source": [
      "The DEs from Newton's second law are solved.\n",
      "\n",
      "Trajectory that specifies hwo the positions and velocities of the atoms vary with time.\n",
      "\n",
      "Equations solved by taking a small step in time, predicting new atom positions and velocities at the end of the step.\n",
      "\n",
      "At the new positions, re-calculate the atomic forces and take another timestep."
     ]
    },
    {
     "cell_type": "heading",
     "level": 3,
     "metadata": {},
     "source": [
      "Finite difference methods"
     ]
    },
    {
     "cell_type": "markdown",
     "metadata": {},
     "source": [
      "Coupled nature of the problem, so we solve them numerically.\n",
      "\n",
      "Assume that the functions $\\vec{r}, \\vec{v}, \\vec{a}$ can be approximated using a *Taylor series* expansion\n",
      "\n",
      "$$\n",
      "\\begin{align}\n",
      "  r(t + \\delta t) & = r(t) + v(t) \\, \\delta t + \\tfrac{1}{2} a(t) \\, \\delta t^2, \\\\\n",
      "  v(t + \\delta t) & = v(t) + a(t) \\, \\delta t + \\tfrac{1}{2} b(t) \\, \\delta t^2, \\\\\n",
      "  a(t + \\delta t) & = a(t) + b(t) \\, \\delta t + \\dots\n",
      "\\end{align}\n",
      "$$\n",
      "\n",
      "The **Verlet** and **velocity Verlet** algorithms are the most popular."
     ]
    },
    {
     "cell_type": "heading",
     "level": 3,
     "metadata": {},
     "source": [
      "Verlet Algorithm"
     ]
    },
    {
     "cell_type": "markdown",
     "metadata": {},
     "source": [
      "Uses the positions and accelerations at time $t$ and positions from time $t - \\delta t$ to calculate new positions at time $t + \\delta t$.\n",
      "\n",
      "This does not use explicit velocities.\n",
      "\n",
      "Algorithm uses the Taylor series expansion for $r$ at $t \\pm \\delta t$ which, when summed, give\n",
      "\n",
      "$$\n",
      "\\begin{equation}\n",
      "  r(t + \\delta t) + r(t - \\delta t) = 2 r(t) + a(t) \\, \\delta t^2.\n",
      "\\end{equation}\n",
      "$$"
     ]
    },
    {
     "cell_type": "markdown",
     "metadata": {},
     "source": [
      "**Advantages**\n",
      "\n",
      "1. Simple to code\n",
      "2. Modest memory requirements\n",
      "\n",
      "**Disadvantages**\n",
      "\n",
      "1. Imprecise\n",
      "2. Need to carry two sets of positions ($t$ and $t - \\delta t$).\n",
      "3. Velocities are not explicitly calculated, but estimated. Thus temperature is not reliably represented."
     ]
    }
   ],
   "metadata": {}
  }
 ]
}