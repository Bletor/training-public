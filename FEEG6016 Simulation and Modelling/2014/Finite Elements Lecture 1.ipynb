{
 "metadata": {
  "name": "",
  "signature": "sha256:e8c2a90b2fb4f0d93653c791d3f02de9446fb6545edbf4bef4d39d350bb82ebf"
 },
 "nbformat": 3,
 "nbformat_minor": 0,
 "worksheets": [
  {
   "cells": [
    {
     "cell_type": "heading",
     "level": 1,
     "metadata": {},
     "source": [
      "Finite Elements Lecture 1"
     ]
    },
    {
     "cell_type": "code",
     "collapsed": false,
     "input": [
      "from IPython.core.display import HTML\n",
      "css_file = '../ipython_notebook_styles/ngcmstyle.css'\n",
      "HTML(open(css_file, \"r\").read())"
     ],
     "language": "python",
     "metadata": {},
     "outputs": [
      {
       "html": [
        "<link href='http://fonts.googleapis.com/css?family=Open+Sans:100,300,400,500,700,800,900,100italic,300italic,400italic,500italic,700italic,800italic,900italic' rel='stylesheet' type='text/css'>\n",
        "<link href='http://fonts.googleapis.com/css?family=Arvo:400,700,400italic' rel='stylesheet' type='text/css'>\n",
        "<link href='http://fonts.googleapis.com/css?family=PT+Mono' rel='stylesheet' type='text/css'>\n",
        "<link href='http://fonts.googleapis.com/css?family=Shadows+Into+Light' rel='stylesheet' type='text/css'>\n",
        "<link href='http://fonts.googleapis.com/css?family=Nixie+One' rel='stylesheet' type='text/css'>\n",
        "<style>\n",
        "\n",
        "@font-face {\n",
        "    font-family: \"Computer Modern\";\n",
        "    src: url('http://mirrors.ctan.org/fonts/cm-unicode/fonts/otf/cmunss.otf');\n",
        "}\n",
        "\n",
        "#notebook_panel { /* main background */\n",
        "    background: rgb(245,245,245);\n",
        "}\n",
        "\n",
        "div.cell { /* set cell width */\n",
        "    width: 1000px;\n",
        "}\n",
        "\n",
        "div #notebook { /* centre the content */\n",
        "    background: #fff; /* white background for content */\n",
        "    width: 1200px;\n",
        "    margin: auto;\n",
        "    padding-left: 0em;\n",
        "}\n",
        "\n",
        "#notebook li { /* More space between bullet points */\n",
        "margin-top:0.8em;\n",
        "}\n",
        "\n",
        "/* draw border around running cells */\n",
        "div.cell.border-box-sizing.code_cell.running { \n",
        "    border: 1px solid #111;\n",
        "}\n",
        "\n",
        "/* Put a solid color box around each cell and its output, visually linking them*/\n",
        "div.cell.code_cell {\n",
        "    background-color: rgb(256,256,256); \n",
        "    border-radius: 0px; \n",
        "    padding: 0.5em;\n",
        "    margin-left:1em;\n",
        "    margin-top: 1em;\n",
        "}\n",
        "\n",
        "div.text_cell_render{\n",
        "    font-family: 'Open Sans' sans-serif;\n",
        "    line-height: 140%;\n",
        "    font-size: 125%;\n",
        "    font-weight: 400;\n",
        "    width:900px;\n",
        "    margin-left:auto;\n",
        "    margin-right:auto;\n",
        "}\n",
        "\n",
        "\n",
        "/* Formatting for header cells */\n",
        ".text_cell_render h1 {\n",
        "    font-family: 'Arvo', serif;\n",
        "    font-style:regular;\n",
        "    font-weight: 400;    \n",
        "    font-size: 45pt;\n",
        "    line-height: 100%;\n",
        "    color: rgb(0,51,102);\n",
        "    margin-bottom: 0.5em;\n",
        "    margin-top: 0.5em;\n",
        "    display: block;\n",
        "}\t\n",
        ".text_cell_render h2 {\n",
        "    font-family: 'Arvo', serif;\n",
        "    font-weight: 400;\n",
        "    font-size: 30pt;\n",
        "    line-height: 100%;\n",
        "    color: rgb(0,51,102);\n",
        "    margin-bottom: 0.1em;\n",
        "    margin-top: 0.3em;\n",
        "    display: block;\n",
        "}\t\n",
        "\n",
        ".text_cell_render h3 {\n",
        "    font-family: 'Arvo', serif;\n",
        "    margin-top:16px;\n",
        "\tfont-size: 22pt;\n",
        "    font-weight: 600;\n",
        "    margin-bottom: 3px;\n",
        "    font-style: regular;\n",
        "    color: rgb(102,102,0);\n",
        "}\n",
        "\n",
        ".text_cell_render h4 {    /*Use this for captions*/\n",
        "    font-family: 'Arvo', serif;\n",
        "    font-size: 14pt;\n",
        "    text-align: center;\n",
        "    margin-top: 0em;\n",
        "    margin-bottom: 2em;\n",
        "    font-style: regular;\n",
        "}\n",
        "\n",
        ".text_cell_render h5 {  /*Use this for small titles*/\n",
        "    font-family: 'Arvo', sans-serif;\n",
        "    font-weight: 400;\n",
        "    font-size: 16pt;\n",
        "    color: rgb(163,0,0);\n",
        "    font-style: italic;\n",
        "    margin-bottom: .1em;\n",
        "    margin-top: 0.8em;\n",
        "    display: block;\n",
        "}\n",
        "\n",
        ".text_cell_render h6 { /*use this for copyright note*/\n",
        "    font-family: 'PT Mono', sans-serif;\n",
        "    font-weight: 300;\n",
        "    font-size: 9pt;\n",
        "    line-height: 100%;\n",
        "    color: grey;\n",
        "    margin-bottom: 1px;\n",
        "    margin-top: 1px;\n",
        "}\n",
        "\n",
        ".CodeMirror{\n",
        "        font-family: \"PT Mono\";\n",
        "        font-size: 90%;\n",
        "}\n",
        "\n",
        "</style>\n",
        "<script>\n",
        "    MathJax.Hub.Config({\n",
        "                        TeX: {\n",
        "                           extensions: [\"AMSmath.js\"],\n",
        "                           equationNumbers: { autoNumber: \"AMS\", useLabelIds: true}\n",
        "                           },\n",
        "                tex2jax: {\n",
        "                    inlineMath: [ ['$','$'], [\"\\\\(\",\"\\\\)\"] ],\n",
        "                    displayMath: [ ['$$','$$'], [\"\\\\[\",\"\\\\]\"] ]\n",
        "                },\n",
        "                displayAlign: 'center', // Change this to 'center' to center equations.\n",
        "                \"HTML-CSS\": {\n",
        "                    styles: {'.MathJax_Display': {\"margin\": 4}}\n",
        "                }\n",
        "        });\n",
        "</script>\n"
       ],
       "metadata": {},
       "output_type": "pyout",
       "prompt_number": 1,
       "text": [
        "<IPython.core.display.HTML at 0x104a010f0>"
       ]
      }
     ],
     "prompt_number": 1
    },
    {
     "cell_type": "heading",
     "level": 5,
     "metadata": {},
     "source": [
      "Georges Limbert"
     ]
    },
    {
     "cell_type": "markdown",
     "metadata": {},
     "source": [
      "This will be introduction:\n",
      "\n",
      "* Fundamental aspects\n",
      "* Examples of applications\n",
      "* The direct stiffness matrix method\n",
      "* The weak form"
     ]
    },
    {
     "cell_type": "heading",
     "level": 6,
     "metadata": {},
     "source": [
      "References:"
     ]
    },
    {
     "cell_type": "markdown",
     "metadata": {},
     "source": [
      "* [The Finite Element Method (Hughes, 2003)](http://www.amazon.co.uk/gp/product/B00CB2MK8K?btkr=1)\n",
      "* [Belytschko, Liu & Moran](http://www.amazon.co.uk/Nonlinear-Elements-Structures-Mechanical-Engineering/dp/0471987743)\n",
      "* [Simo and Hughes](http://www.springer.com/mathematics/computational+science+%26+engineering/book/978-0-387-97520-7)\n",
      "* [Crisfield](http://www.amazon.com/Non-Linear-Finite-Element-Analysis-Structures/dp/047197059X)"
     ]
    },
    {
     "cell_type": "heading",
     "level": 2,
     "metadata": {},
     "source": [
      "Background"
     ]
    },
    {
     "cell_type": "markdown",
     "metadata": {},
     "source": [
      "Typical applications for GL:\n",
      "\n",
      "* Background in applied maths and engineering mechanics\n",
      "* Nonlinear continuum mechanics of biological tissues/biomaterials\n",
      "* Multiphysics finite element techniques (theory/implementation/analysis)\n",
      "* Models used in industry, academia and the military"
     ]
    },
    {
     "cell_type": "heading",
     "level": 2,
     "metadata": {},
     "source": [
      "Aims"
     ]
    },
    {
     "cell_type": "markdown",
     "metadata": {},
     "source": [
      "* Introduce the general \"philosophy\"\n",
      "* Raise awareness about the applications\n",
      "* Highlight the concept through simple examples\n",
      "* Introduce variational formulations of PDEs"
     ]
    },
    {
     "cell_type": "heading",
     "level": 2,
     "metadata": {},
     "source": [
      "Computational Engineering"
     ]
    },
    {
     "cell_type": "markdown",
     "metadata": {},
     "source": [
      "* Modelling complex engineering systems\n",
      "* Assessment of performace and safety before physical prototypes are built and tested\n",
      "* Explore many design alternatives\n",
      "* Optimise performance and safety\n",
      "* Certification requirements"
     ]
    },
    {
     "cell_type": "heading",
     "level": 2,
     "metadata": {},
     "source": [
      "Finite Element Method"
     ]
    },
    {
     "cell_type": "markdown",
     "metadata": {},
     "source": [
      "Powerful method to solve PDEs over *complex* geometrical domains.\n",
      "\n",
      "* Rooted in variational methods\n",
      "* Principles developed in the 40's, driven by Boeing and large advances in the 60s and 70s.\n",
      "* Mainly driven by the need to solve elasticitiy and structural analysis problemns encountered in civil and aeronautical engineering."
     ]
    },
    {
     "cell_type": "heading",
     "level": 2,
     "metadata": {},
     "source": [
      "Domain of applications"
     ]
    },
    {
     "cell_type": "markdown",
     "metadata": {},
     "source": [
      "Very wide:\n",
      "\n",
      "* Biophysics\n",
      "* Mechanics\n",
      "* EM\n",
      "* Aerodynamics\n",
      "* Structural dynamics\n",
      "* Heat transfer\n",
      "* Biology\n",
      "* Porous media\n",
      "* Hydrodynamics\n",
      "* Structural mechanics\n",
      "* Nanomechanics\n",
      "* Behavioural sciences\n",
      "* and on to any domain of natural and physical sciences."
     ]
    },
    {
     "cell_type": "heading",
     "level": 2,
     "metadata": {},
     "source": [
      "Example codes"
     ]
    },
    {
     "cell_type": "markdown",
     "metadata": {},
     "source": [
      "**Commerical**\n",
      "\n",
      "* ABAQUS\n",
      "* ANSYS\n",
      "* COMSOL\n",
      "* MARC\n",
      "* NASTRAN\n",
      "* LS-DYNA\n",
      "\n",
      "**Open source**\n",
      "\n",
      "* FEnics\n",
      "* CalculiX\n",
      "* FEAPpv\n",
      "* WARP3D\n",
      "* Matlab toolboxes"
     ]
    },
    {
     "cell_type": "heading",
     "level": 2,
     "metadata": {},
     "source": [
      "Example applications"
     ]
    },
    {
     "cell_type": "markdown",
     "metadata": {},
     "source": [
      "**Simulated knee flexion**\n",
      "\n",
      "Fibrous models of ligament - elastic and solid mechanics, stress models, etc.\n",
      "\n",
      "**Wrinkling analyses**\n",
      "\n",
      "Compression induced - calculation of first principal strains in, eg, paper crinkling, skin wrinkles in aging, etc. Note importance of interpolation techniques for this application.\n",
      "\n",
      "**Bi-layer structure**\n",
      "\n",
      "Importance of thickness and structure for results.\n",
      "\n",
      "**Simulation of in-plane compression of the epidermis**\n",
      "\n",
      "Another skin application; the importance of topography, swelling with moisture, etc.\n",
      "\n",
      "**Oral implants**\n",
      "\n",
      "Dentistry applications, in combination with imaging techniques.\n",
      "\n",
      "**Artificial organs and implants**\n",
      "\n",
      "Importance of mechanics, material, electronics and chemistry.\n",
      "\n",
      "**Biomedical (stents)**\n",
      "\n",
      "Combination of health and engineering aspects, with combinations of FEA and CFD.\n",
      "\n",
      "**Consumer goods**\n",
      "\n",
      "How the feel of the packaging affects the way you feel about the goods: make it feel expensive to trigger an emotional response.\n",
      "\n",
      "**EM radiation**\n",
      "\n",
      "Microwave effects on tissues, and UV-induced damage.\n",
      "\n",
      "**Movies**\n",
      "\n",
      "Physics-based computer graphics."
     ]
    },
    {
     "cell_type": "heading",
     "level": 2,
     "metadata": {},
     "source": [
      "FEM in a nutshell"
     ]
    },
    {
     "cell_type": "markdown",
     "metadata": {},
     "source": [
      "1. Transform PDE into a variational problem\n",
      "2. Introduce a piecewise approximation to the field variables (eg displacement, temperature, electric charge) in the equations.\n",
      "3. Discretise the physical domain into elements and write approximate equations for each element (**meshing** process). Local equations in each element expressed in matrix form.\n",
      "4. Assemble local equations into a global matrix.\n",
      "5. Solve."
     ]
    },
    {
     "cell_type": "heading",
     "level": 2,
     "metadata": {},
     "source": [
      "Step 2."
     ]
    },
    {
     "cell_type": "markdown",
     "metadata": {},
     "source": [
      "(Step 1 later).\n",
      "\n",
      "* In each element, choose **interpolation** (or **shape**) functions to approximate field within element in terms of **nodal values** (the **degrees of freedom**).\n",
      "* In each element, value of each variable anywhere in the element is a linear combination of the shape functions and the nodal values\n",
      "* Interpolation functions are usually polynomials (Largrange, Hermite, B-spline, ...)"
     ]
    },
    {
     "cell_type": "heading",
     "level": 2,
     "metadata": {},
     "source": [
      "Step 3 and 4"
     ]
    },
    {
     "cell_type": "markdown",
     "metadata": {},
     "source": [
      "Step 3:\n",
      "\n",
      "* Field approximations are injected into the variational form.\n",
      "* Ran out of time."
     ]
    },
    {
     "cell_type": "heading",
     "level": 2,
     "metadata": {},
     "source": [
      "Direct stiffness approach"
     ]
    },
    {
     "cell_type": "heading",
     "level": 3,
     "metadata": {},
     "source": [
      "Equation for a single elastic spring"
     ]
    },
    {
     "cell_type": "markdown",
     "metadata": {},
     "source": [
      "Equivalent to a single element.\n",
      "\n",
      "Forces $f_1$ (left end) and $f_2$ (right end).\n",
      "\n",
      "Equilibrium equation\n",
      "\n",
      "$$\n",
      "  f_1 + f_2 = 0.\n",
      "$$\n",
      "\n",
      "Combine with Hooke's law for the spring\n",
      "\n",
      "$$\n",
      "\\begin{align}\n",
      "  f_2 & = k (d_2 - d_1) \\\\ f_1 & = -k (d_2 - d_1) = f_2\n",
      "\\end{align}\n",
      "$$\n",
      "\n",
      "to get the equilibrium equations in matrix form\n",
      "\n",
      "$$\n",
      "\\begin{pmatrix} f_1 \\\\ f_2 \\end{pmatrix} = \\begin{pmatrix} k & -k \\\\ -k & k \\end{pmatrix} \\begin{pmatrix} d_1 \\\\ d_2 \\end{pmatrix}\n",
      "$$\n",
      "\n",
      "The stiffness matrix is symmetric but singular. The problem is that this doesn't constrain spatial translations; can take an infinite number of positions in space. Need to remember this and work around."
     ]
    },
    {
     "cell_type": "markdown",
     "metadata": {},
     "source": [
      "Go to a system with two elastic springs.\n",
      "\n",
      "Equilibrium equation\n",
      "\n",
      "$$\n",
      "  F_1 + F_2 + F_3 = 0\n",
      "$$\n",
      "\n",
      "Constitutive equations\n",
      "\n"
     ]
    },
    {
     "cell_type": "markdown",
     "metadata": {},
     "source": [
      "Split the original structure into elemental components\n",
      "\n",
      "$$\n",
      "{\\bf f}^{(1)} = k^{(1)} {\\bf d}^{(1)}\n",
      "$$ \n",
      "\n",
      "and similarly for the second element.\n",
      "\n",
      "Using the link between the displacements, that $d_2^{(1)} = d_1^{(2)}$, can set up a **connectivity matrix** linking the nodes in the different elements. Do something similarly for the forces, getting\n",
      "\n",
      "$$\n",
      "\\begin{pmatrix} F_1 \\\\ F_2 \\\\ F_3 \\end{pmatrix} = \\begin{pmatrix} f_1^{(1)} \\\\ f_1^{(2)} + f_2^{(1)} \\\\ f_2^{(2)} \\end{pmatrix}\n",
      "$$"
     ]
    },
    {
     "cell_type": "markdown",
     "metadata": {},
     "source": [
      "Expanded local equations\n",
      "\n",
      "The location equations for each spring can be rewritten in matrix form, or they can be expanded into larger matrices and vectors. Local versions have size 2, global version has size 3.\n",
      "\n",
      "Final version from adding up all the expanded versions\n",
      "\n",
      "$$\n",
      "  K {\\bf d} = {\\bf f}.\n",
      "$$"
     ]
    },
    {
     "cell_type": "markdown",
     "metadata": {},
     "source": [
      "Direct assembly of the global stiffness matrix $K$.\n",
      "\n",
      "Use the connectivity to measure the contributions or connections."
     ]
    },
    {
     "cell_type": "markdown",
     "metadata": {},
     "source": [
      "Special case: grounded spring\n",
      "\n",
      "Partition and apply boundary condition $d_1 = 0$."
     ]
    },
    {
     "cell_type": "markdown",
     "metadata": {},
     "source": [
      "Global equilibrium equations\n",
      "\n",
      "**Q1** What is the physical meaning of $K$?\n",
      "\n",
      "It denotes the force felt at node $i$ due to unit desplacement at node $j$ (all others fixed)\n",
      "\n",
      "**Q2** Which elements contribute to $K$?\n",
      "\n",
      "Those between $i$ and $j$, connected to $i$.\n",
      "\n",
      "The stiffness matrix is invertible only when suitable boundary conditions are applied."
     ]
    },
    {
     "cell_type": "heading",
     "level": 2,
     "metadata": {},
     "source": [
      "Weak form"
     ]
    },
    {
     "cell_type": "heading",
     "level": 3,
     "metadata": {},
     "source": [
      "Turning PDEs into variational problems"
     ]
    },
    {
     "cell_type": "markdown",
     "metadata": {},
     "source": [
      "Multiply by an arbitrary **test function** and integrate over the domain. Perform integration by parts to get rid of second order derivatives.\n",
      "\n",
      "Very powerful technique - not restricted to conservative systems."
     ]
    },
    {
     "cell_type": "markdown",
     "metadata": {},
     "source": [
      "Take the **strong form** of the initial boundary value problem.\n",
      "\n",
      "$$\n",
      "\\nabla \\cdot \\sigma + b = \\rho \\dot{v} = \\rho \\ddot{u}.\n",
      "$$\n",
      "\n",
      "Add prescribed displacement $u = \\bar{u}$ and traction $t = \\bar{t}$ on the boundaries, together with initial condition on displacement and velocity at $t=0$."
     ]
    },
    {
     "cell_type": "markdown",
     "metadata": {},
     "source": [
      "Consider arbitrary vector valued function $\\eta = \\eta(x) = \\etc(\\chi(X, t))$. This is the **test** or **weighting** function.\n",
      "\n",
      "* Time is assumed to be fixed\n",
      "* $\\eta$ vanishes on the boundary where displacements are fixed.\n",
      "\n",
      "Write functional obtained by multiplying the strong form by the test function and integrating over the domain:\n",
      "\n",
      "$$\n",
      "  f(u, \\eta) = \\int_{\\Omega} ( -\\nabla \\cdot \\sigma - b + \\rho \\ddot{u} ) \\cdot \\eta \\, dv = 0.\n",
      "$$\n",
      "\n",
      "Expand the divergence term as\n",
      "\n",
      "$$\n",
      "  \\nabla \\cdot \\sigma \\cdot \\eta = \\nabla (\\sigma \\eta) - \\sigma : \\nabla \\eta = \\nabla (\\sigma \\eta) - \\sigma : \\nabla_x \\eta.\n",
      "$$\n",
      "\n",
      "Hence the functional becomes\n",
      "\n",
      "$$\n",
      "  f(u, \\eta) = \\int_{\\Omega} \\sigma : \\nabla \\eta - (b - \\rho \\ddot{u}) \\cdot \\eta - \\int_{\\partial \\Omega} \\sigma \\eta \\cdot n \\, ds\n",
      "$$\n",
      "\n",
      "Using that $\\eta$ vanishes on the boundary you get\n",
      "\n",
      "$$\n",
      "  \\int_{\\partial \\Omega} \\sigma \\eta \\cdot n \\, ds = \\int_{\\partial \\Omega} \\bar{t} \\cdot \\eta \\, ds.\n",
      "$$"
     ]
    },
    {
     "cell_type": "heading",
     "level": 3,
     "metadata": {},
     "source": [
      "Variational problem"
     ]
    },
    {
     "cell_type": "markdown",
     "metadata": {},
     "source": [
      "Finally rewrite problem as\n",
      "\n",
      "$$\n",
      "  f(u, \\eta) = \\int_{\\Omega} \\left[ \\sigma : \\nabla \\eta - (b - \\rho \\ddot{u})\\cdot \\eta \\right] \\, dv - \\int_{\\partial \\Omega} \\bar{t} \\cdot \\eta \\, ds = 0,\n",
      "$$\n",
      "\n",
      "subject to conditions on the initial data."
     ]
    },
    {
     "cell_type": "heading",
     "level": 3,
     "metadata": {},
     "source": [
      "Special choice of the test function"
     ]
    },
    {
     "cell_type": "markdown",
     "metadata": {},
     "source": [
      "Choose the test function to be a **virtual** displacement, $\\eta = \\delta u$."
     ]
    },
    {
     "cell_type": "markdown",
     "metadata": {},
     "source": [
      "The we get the **principle of virtual work**, and the first term in the volume integral is the **internal mechanical virtual work**, and the second term (less the acceleration term) and the surface integral is the **external mechanical virtual work**. Hence the variational principle is equivalent to the virtual work balancing off against the acceleration."
     ]
    },
    {
     "cell_type": "heading",
     "level": 3,
     "metadata": {},
     "source": [
      "Initial boundary value problem"
     ]
    },
    {
     "cell_type": "markdown",
     "metadata": {},
     "source": [
      "Summarizing, the weak form has the integral plus the initial conditions (in integral form)."
     ]
    },
    {
     "cell_type": "heading",
     "level": 3,
     "metadata": {},
     "source": [
      "Additional comments"
     ]
    },
    {
     "cell_type": "markdown",
     "metadata": {},
     "source": [
      "Note that 80% of the time can be spent in meshing. In cases where the interpolation functions are NURBS or B-splines, the geometry is the mesh, so using these functions can greatly speed things up."
     ]
    }
   ],
   "metadata": {}
  }
 ]
}