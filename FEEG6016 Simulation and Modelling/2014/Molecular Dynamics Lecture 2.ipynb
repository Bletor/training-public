{
 "metadata": {
  "name": "",
  "signature": "sha256:d9204f2fac041586a38ce8348add0d17d58657a04bf44fe9912e02768b9264b4"
 },
 "nbformat": 3,
 "nbformat_minor": 0,
 "worksheets": [
  {
   "cells": [
    {
     "cell_type": "heading",
     "level": 1,
     "metadata": {},
     "source": [
      "Molecular Dynamics"
     ]
    },
    {
     "cell_type": "heading",
     "level": 5,
     "metadata": {},
     "source": [
      "Syma Khalid"
     ]
    },
    {
     "cell_type": "code",
     "collapsed": false,
     "input": [
      "from IPython.core.display import HTML\n",
      "css_file = '../ipython_notebook_styles/ngcmstyle.css'\n",
      "HTML(open(css_file, \"r\").read())"
     ],
     "language": "python",
     "metadata": {},
     "outputs": [
      {
       "html": [
        "<link href='http://fonts.googleapis.com/css?family=Open+Sans:100,300,400,500,700,800,900,100italic,300italic,400italic,500italic,700italic,800italic,900italic' rel='stylesheet' type='text/css'>\n",
        "<link href='http://fonts.googleapis.com/css?family=Arvo:400,700,400italic' rel='stylesheet' type='text/css'>\n",
        "<link href='http://fonts.googleapis.com/css?family=PT+Mono' rel='stylesheet' type='text/css'>\n",
        "<link href='http://fonts.googleapis.com/css?family=Shadows+Into+Light' rel='stylesheet' type='text/css'>\n",
        "<link href='http://fonts.googleapis.com/css?family=Nixie+One' rel='stylesheet' type='text/css'>\n",
        "<style>\n",
        "\n",
        "@font-face {\n",
        "    font-family: \"Computer Modern\";\n",
        "    src: url('http://mirrors.ctan.org/fonts/cm-unicode/fonts/otf/cmunss.otf');\n",
        "}\n",
        "\n",
        "#notebook_panel { /* main background */\n",
        "    background: rgb(245,245,245);\n",
        "}\n",
        "\n",
        "div.cell { /* set cell width */\n",
        "    width: 1000px;\n",
        "}\n",
        "\n",
        "div #notebook { /* centre the content */\n",
        "    background: #fff; /* white background for content */\n",
        "    width: 1200px;\n",
        "    margin: auto;\n",
        "    padding-left: 0em;\n",
        "}\n",
        "\n",
        "#notebook li { /* More space between bullet points */\n",
        "margin-top:0.8em;\n",
        "}\n",
        "\n",
        "/* draw border around running cells */\n",
        "div.cell.border-box-sizing.code_cell.running { \n",
        "    border: 1px solid #111;\n",
        "}\n",
        "\n",
        "/* Put a solid color box around each cell and its output, visually linking them*/\n",
        "div.cell.code_cell {\n",
        "    background-color: rgb(256,256,256); \n",
        "    border-radius: 0px; \n",
        "    padding: 0.5em;\n",
        "    margin-left:1em;\n",
        "    margin-top: 1em;\n",
        "}\n",
        "\n",
        "div.text_cell_render{\n",
        "    font-family: 'Open Sans' sans-serif;\n",
        "    line-height: 140%;\n",
        "    font-size: 125%;\n",
        "    font-weight: 400;\n",
        "    width:900px;\n",
        "    margin-left:auto;\n",
        "    margin-right:auto;\n",
        "}\n",
        "\n",
        "\n",
        "/* Formatting for header cells */\n",
        ".text_cell_render h1 {\n",
        "    font-family: 'Arvo', serif;\n",
        "    font-style:regular;\n",
        "    font-weight: 400;    \n",
        "    font-size: 45pt;\n",
        "    line-height: 100%;\n",
        "    color: rgb(0,51,102);\n",
        "    margin-bottom: 0.5em;\n",
        "    margin-top: 0.5em;\n",
        "    display: block;\n",
        "}\t\n",
        ".text_cell_render h2 {\n",
        "    font-family: 'Arvo', serif;\n",
        "    font-weight: 400;\n",
        "    font-size: 30pt;\n",
        "    line-height: 100%;\n",
        "    color: rgb(0,51,102);\n",
        "    margin-bottom: 0.1em;\n",
        "    margin-top: 0.3em;\n",
        "    display: block;\n",
        "}\t\n",
        "\n",
        ".text_cell_render h3 {\n",
        "    font-family: 'Arvo', serif;\n",
        "    margin-top:16px;\n",
        "\tfont-size: 22pt;\n",
        "    font-weight: 600;\n",
        "    margin-bottom: 3px;\n",
        "    font-style: regular;\n",
        "    color: rgb(102,102,0);\n",
        "}\n",
        "\n",
        ".text_cell_render h4 {    /*Use this for captions*/\n",
        "    font-family: 'Arvo', serif;\n",
        "    font-size: 14pt;\n",
        "    text-align: center;\n",
        "    margin-top: 0em;\n",
        "    margin-bottom: 2em;\n",
        "    font-style: regular;\n",
        "}\n",
        "\n",
        ".text_cell_render h5 {  /*Use this for small titles*/\n",
        "    font-family: 'Arvo', sans-serif;\n",
        "    font-weight: 400;\n",
        "    font-size: 16pt;\n",
        "    color: rgb(163,0,0);\n",
        "    font-style: italic;\n",
        "    margin-bottom: .1em;\n",
        "    margin-top: 0.8em;\n",
        "    display: block;\n",
        "}\n",
        "\n",
        ".text_cell_render h6 { /*use this for copyright note*/\n",
        "    font-family: 'PT Mono', sans-serif;\n",
        "    font-weight: 300;\n",
        "    font-size: 9pt;\n",
        "    line-height: 100%;\n",
        "    color: grey;\n",
        "    margin-bottom: 1px;\n",
        "    margin-top: 1px;\n",
        "}\n",
        "\n",
        ".CodeMirror{\n",
        "        font-family: \"PT Mono\";\n",
        "        font-size: 90%;\n",
        "}\n",
        "\n",
        "</style>\n",
        "<script>\n",
        "    MathJax.Hub.Config({\n",
        "                        TeX: {\n",
        "                           extensions: [\"AMSmath.js\"],\n",
        "                           equationNumbers: { autoNumber: \"AMS\", useLabelIds: true}\n",
        "                           },\n",
        "                tex2jax: {\n",
        "                    inlineMath: [ ['$','$'], [\"\\\\(\",\"\\\\)\"] ],\n",
        "                    displayMath: [ ['$$','$$'], [\"\\\\[\",\"\\\\]\"] ]\n",
        "                },\n",
        "                displayAlign: 'center', // Change this to 'center' to center equations.\n",
        "                \"HTML-CSS\": {\n",
        "                    styles: {'.MathJax_Display': {\"margin\": 4}}\n",
        "                }\n",
        "        });\n",
        "</script>\n"
       ],
       "metadata": {},
       "output_type": "pyout",
       "prompt_number": 1,
       "text": [
        "<IPython.core.display.HTML at 0x1049f3cc0>"
       ]
      }
     ],
     "prompt_number": 1
    },
    {
     "cell_type": "heading",
     "level": 2,
     "metadata": {},
     "source": [
      "Velocity Verlet algorithm"
     ]
    },
    {
     "cell_type": "markdown",
     "metadata": {},
     "source": [
      "Considers both the atomic positions and velocities at the same time.\n",
      "\n",
      "Divide the procedure into three steps:\n",
      "\n",
      "$$\n",
      "\\begin{align}\n",
      "  v(t + \\delta t / 2) & = v(t) = \\frac{a(t) \\, \\delta t}{2}, \\\\\n",
      "  r(t + \\delta t) & = r(t) + v(t + \\delta t / 2) \\, \\delta t \\\\\n",
      "  v(t + \\delta t) & = v(t + \\delta t / 2) + \\frac{a(t + \\delta t) \\, \\delta t}{2}.\n",
      "\\end{align}\n",
      "$$\n",
      "\n",
      "Only set of positions, forces and velocities need to be carried at any one time."
     ]
    },
    {
     "cell_type": "heading",
     "level": 5,
     "metadata": {},
     "source": [
      "Advantages"
     ]
    },
    {
     "cell_type": "markdown",
     "metadata": {},
     "source": [
      "* Simple to code\n",
      "* Relatively modest memory requirements\n",
      "* Velocities explictly calculated, thus temperature is reliably calculated\n",
      "* Energy well conserved.\n",
      "\n",
      "The algorithm of choice for most popular MD codes."
     ]
    },
    {
     "cell_type": "heading",
     "level": 2,
     "metadata": {},
     "source": [
      "Temperature"
     ]
    },
    {
     "cell_type": "markdown",
     "metadata": {},
     "source": [
      "Temperature specifies thermodynamic state - important concept in MD:\n",
      "\n",
      "$$\n",
      "\\begin{equation}\n",
      "  T(t) = \\sum_{i=1}^N \\frac{m_i v_i^2(t)}{K_B (3 N -3)}\n",
      "\\end{equation}\n",
      "$$\n",
      "\n"
     ]
    },
    {
     "cell_type": "markdown",
     "metadata": {},
     "source": [
      "$N$ is the number of particles and $K_B$ the Boltzmann constant."
     ]
    },
    {
     "cell_type": "heading",
     "level": 2,
     "metadata": {},
     "source": [
      "Timesteps"
     ]
    },
    {
     "cell_type": "markdown",
     "metadata": {},
     "source": [
      "How to choose $\\delta t$? Must strike balance between conserving energy and efficient simulation.\n",
      "\n",
      "High frequency motions can be problematic; get around this by \"freezing out\" - constraining bonds to their equilibrium values.\n",
      "\n",
      "For biomolecules $\\delta t = 2$fs is often used."
     ]
    },
    {
     "cell_type": "heading",
     "level": 2,
     "metadata": {},
     "source": [
      "System setup"
     ]
    },
    {
     "cell_type": "markdown",
     "metadata": {},
     "source": [
      "Need coordinates for the molecules to start.\n",
      "\n",
      "Usual to get structure from x-ray crystallography or NMR (for biological systems).\n",
      "\n",
      "Embed structure in an environment that mimics experimental conditions.\n",
      "\n",
      "Set system up carefully, taking care to remove any \"bad contacts\" - eg, use energy miinimisation."
     ]
    },
    {
     "cell_type": "heading",
     "level": 2,
     "metadata": {},
     "source": [
      "Periodic Boundaries"
     ]
    },
    {
     "cell_type": "markdown",
     "metadata": {},
     "source": [
      "Only small numbers of molecules in a cell (max 150k as of 2014). Molecules on the surface experience different forces to bulk molecules, so to avoid this use periodic boundaries.\n",
      "\n",
      "If a particle leaves the central box one of its images will enter the box through the opposite face.\n",
      "\n",
      "The number of particles in the central box (which is actually simulated) remains constant."
     ]
    },
    {
     "cell_type": "heading",
     "level": 2,
     "metadata": {},
     "source": [
      "System Equilibriation"
     ]
    },
    {
     "cell_type": "markdown",
     "metadata": {},
     "source": [
      "The equivalent of a \"well-stirred\" solution in synthetic chemistry.\n",
      "\n",
      "When doing a simulation in the **NPT** (Number of particles, Pressure, Temperature: these are *forced* to remain constant) ensemble, then we monitor the system volume (ie, the volume of the box).\n",
      "\n",
      "Similarly, when using an **NVT** (Volume...) ensemble, we monitor the system pressure.\n",
      "\n",
      "Often start by equilibriating in the NVT ensemble, then switching to the NPT ensemble.\n",
      "\n",
      "Can study the systematic drift in the structure by monitoring the root-mean-square deviation"
     ]
    },
    {
     "cell_type": "heading",
     "level": 2,
     "metadata": {},
     "source": [
      "Timescale limitations"
     ]
    },
    {
     "cell_type": "markdown",
     "metadata": {},
     "source": [
      "One of the major limitations: timescale that can be simulated.\n",
      "\n",
      "State-of-the-art: simulations max 1-10 $\\mu$s of \"real time\".\n",
      "\n",
      "Problem as conformation changes can take ms, s, to hours or longer.\n",
      "\n",
      "Additional problem: encounters between two molecules can lead to changes on diffusion timescale of ms or longer."
     ]
    },
    {
     "cell_type": "heading",
     "level": 2,
     "metadata": {},
     "source": [
      "Enhanced Sampling Methods"
     ]
    },
    {
     "cell_type": "markdown",
     "metadata": {},
     "source": [
      "Many different methods to tackle the timescale limitations. Focus on Metadynamics."
     ]
    },
    {
     "cell_type": "markdown",
     "metadata": {},
     "source": [
      "Assume system can be described by a few selected degrees of freedom, called *collective variables* (CV).\n",
      "\n",
      "Sampling facilitated by addition of a history-dependent bias potential that acts on the CVs.\n",
      "\n",
      "Calculate the location of the system in the space determined by the CVs, add a positive Gaussian to discourage the system from revisiting that location (as it has already been sampled)."
     ]
    },
    {
     "cell_type": "markdown",
     "metadata": {},
     "source": [
      "How to choose CVs?\n",
      "\n",
      "They are a function of the microscopic coordinates; not unique.\n",
      "\n",
      "* Should distinguish between initial and final state and also describe key intermediates (but none of these are necessarilly known!).\n",
      "* Should include all slow modes of the systesm.\n",
      "* Should be limited in number."
     ]
    },
    {
     "cell_type": "markdown",
     "metadata": {},
     "source": [
      "Once full energy landscape sampled, the *free-energy* is a constant as a function of the CVs. Can construct the true free-energy by substracting the Gaussians added (big additional benefit).\n",
      "\n",
      "How many Gaussians to add, and the width, are tuneable parameters (plenty of trial and error)."
     ]
    },
    {
     "cell_type": "heading",
     "level": 2,
     "metadata": {},
     "source": [
      "Energy minimisation"
     ]
    },
    {
     "cell_type": "markdown",
     "metadata": {},
     "source": [
      "Method employed to bring system to its (local) energy minimum. To find the minimum points\n",
      "\n",
      "* map the complete *hypersurface* (potential energy wrt all possible parameters) and thereby find all possible values\n",
      "* want approach that keeps computational cost realistic\n",
      "* tyipcally a $3N-5$ or $3N-6$ dimensional problem.\n",
      "\n",
      "Various algorithms that work."
     ]
    },
    {
     "cell_type": "markdown",
     "metadata": {},
     "source": [
      "* No single algorithm always works\n",
      "* Algorithms \"go downhill\", locating the nearest minimum (not necessarily the *global* minimum).\n",
      "\n",
      "Two general categories:\n",
      "\n",
      "* Those that use derivative information\n",
      "* Those that don't.\n",
      "\n",
      "Focus on one example of a derivative method."
     ]
    },
    {
     "cell_type": "heading",
     "level": 3,
     "metadata": {},
     "source": [
      "First Derivative Method - Steepest Descent."
     ]
    },
    {
     "cell_type": "markdown",
     "metadata": {},
     "source": [
      "Function must be continuous and differentiable. First order methods use the gradients. Clearly related to the force $\\vec{F} = -\\nabla V$.\n",
      "\n",
      "Imagine standing on top of a hill and looking for the steepest slope that takes you down.\n",
      "\n",
      "* At each interation the search direction is taken as the negative gradient of the function.\n",
      "* Negative goes downhill.\n",
      "* How far to go? Use *line search*."
     ]
    },
    {
     "cell_type": "markdown",
     "metadata": {},
     "source": [
      "* Locate minimum along the specified direction.\n",
      "* Bracket the minimum. Then use Bisection or similar to find the minimum.\n",
      "* From this point, recalculate the search direction; must be perpendicular to the first.\n",
      "\n",
      "**Advantages**:\n",
      "\n",
      "* Quickly removes worst steric clashes\n",
      "* Rapidly brings bond lengths and angles to ideal values \n",
      "\n",
      "**Disadvantages**\n",
      "\n",
      "* Inefficient in valleys and near the minimum"
     ]
    },
    {
     "cell_type": "code",
     "collapsed": false,
     "input": [],
     "language": "python",
     "metadata": {},
     "outputs": []
    }
   ],
   "metadata": {}
  }
 ]
}