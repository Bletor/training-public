{
 "metadata": {
  "name": "",
  "signature": "sha256:0ea5a03eaca309f00cd5d67e3623c033bc18c3261f68d5670445d90575657149"
 },
 "nbformat": 3,
 "nbformat_minor": 0,
 "worksheets": [
  {
   "cells": [
    {
     "cell_type": "heading",
     "level": 1,
     "metadata": {},
     "source": [
      "Finite Elements Lecture 2"
     ]
    },
    {
     "cell_type": "code",
     "collapsed": false,
     "input": [
      "from IPython.core.display import HTML\n",
      "css_file = '../ipython_notebook_styles/ngcmstyle.css'\n",
      "HTML(open(css_file, \"r\").read())"
     ],
     "language": "python",
     "metadata": {},
     "outputs": [
      {
       "html": [
        "<link href='http://fonts.googleapis.com/css?family=Open+Sans:100,300,400,500,700,800,900,100italic,300italic,400italic,500italic,700italic,800italic,900italic' rel='stylesheet' type='text/css'>\n",
        "<link href='http://fonts.googleapis.com/css?family=Arvo:400,700,400italic' rel='stylesheet' type='text/css'>\n",
        "<link href='http://fonts.googleapis.com/css?family=PT+Mono' rel='stylesheet' type='text/css'>\n",
        "<link href='http://fonts.googleapis.com/css?family=Shadows+Into+Light' rel='stylesheet' type='text/css'>\n",
        "<link href='http://fonts.googleapis.com/css?family=Nixie+One' rel='stylesheet' type='text/css'>\n",
        "<style>\n",
        "\n",
        "@font-face {\n",
        "    font-family: \"Computer Modern\";\n",
        "    src: url('http://mirrors.ctan.org/fonts/cm-unicode/fonts/otf/cmunss.otf');\n",
        "}\n",
        "\n",
        "#notebook_panel { /* main background */\n",
        "    background: rgb(245,245,245);\n",
        "}\n",
        "\n",
        "div.cell { /* set cell width */\n",
        "    width: 1000px;\n",
        "}\n",
        "\n",
        "div #notebook { /* centre the content */\n",
        "    background: #fff; /* white background for content */\n",
        "    width: 1200px;\n",
        "    margin: auto;\n",
        "    padding-left: 0em;\n",
        "}\n",
        "\n",
        "#notebook li { /* More space between bullet points */\n",
        "margin-top:0.8em;\n",
        "}\n",
        "\n",
        "/* draw border around running cells */\n",
        "div.cell.border-box-sizing.code_cell.running { \n",
        "    border: 1px solid #111;\n",
        "}\n",
        "\n",
        "/* Put a solid color box around each cell and its output, visually linking them*/\n",
        "div.cell.code_cell {\n",
        "    background-color: rgb(256,256,256); \n",
        "    border-radius: 0px; \n",
        "    padding: 0.5em;\n",
        "    margin-left:1em;\n",
        "    margin-top: 1em;\n",
        "}\n",
        "\n",
        "div.text_cell_render{\n",
        "    font-family: 'Open Sans' sans-serif;\n",
        "    line-height: 140%;\n",
        "    font-size: 125%;\n",
        "    font-weight: 400;\n",
        "    width:900px;\n",
        "    margin-left:auto;\n",
        "    margin-right:auto;\n",
        "}\n",
        "\n",
        "\n",
        "/* Formatting for header cells */\n",
        ".text_cell_render h1 {\n",
        "    font-family: 'Arvo', serif;\n",
        "    font-style:regular;\n",
        "    font-weight: 400;    \n",
        "    font-size: 45pt;\n",
        "    line-height: 100%;\n",
        "    color: rgb(0,51,102);\n",
        "    margin-bottom: 0.5em;\n",
        "    margin-top: 0.5em;\n",
        "    display: block;\n",
        "}\t\n",
        ".text_cell_render h2 {\n",
        "    font-family: 'Arvo', serif;\n",
        "    font-weight: 400;\n",
        "    font-size: 30pt;\n",
        "    line-height: 100%;\n",
        "    color: rgb(0,51,102);\n",
        "    margin-bottom: 0.1em;\n",
        "    margin-top: 0.3em;\n",
        "    display: block;\n",
        "}\t\n",
        "\n",
        ".text_cell_render h3 {\n",
        "    font-family: 'Arvo', serif;\n",
        "    margin-top:16px;\n",
        "\tfont-size: 22pt;\n",
        "    font-weight: 600;\n",
        "    margin-bottom: 3px;\n",
        "    font-style: regular;\n",
        "    color: rgb(102,102,0);\n",
        "}\n",
        "\n",
        ".text_cell_render h4 {    /*Use this for captions*/\n",
        "    font-family: 'Arvo', serif;\n",
        "    font-size: 14pt;\n",
        "    text-align: center;\n",
        "    margin-top: 0em;\n",
        "    margin-bottom: 2em;\n",
        "    font-style: regular;\n",
        "}\n",
        "\n",
        ".text_cell_render h5 {  /*Use this for small titles*/\n",
        "    font-family: 'Arvo', sans-serif;\n",
        "    font-weight: 400;\n",
        "    font-size: 16pt;\n",
        "    color: rgb(163,0,0);\n",
        "    font-style: italic;\n",
        "    margin-bottom: .1em;\n",
        "    margin-top: 0.8em;\n",
        "    display: block;\n",
        "}\n",
        "\n",
        ".text_cell_render h6 { /*use this for copyright note*/\n",
        "    font-family: 'PT Mono', sans-serif;\n",
        "    font-weight: 300;\n",
        "    font-size: 9pt;\n",
        "    line-height: 100%;\n",
        "    color: grey;\n",
        "    margin-bottom: 1px;\n",
        "    margin-top: 1px;\n",
        "}\n",
        "\n",
        ".CodeMirror{\n",
        "        font-family: \"PT Mono\";\n",
        "        font-size: 90%;\n",
        "}\n",
        "\n",
        "</style>\n",
        "<script>\n",
        "    MathJax.Hub.Config({\n",
        "                        TeX: {\n",
        "                           extensions: [\"AMSmath.js\"],\n",
        "                           equationNumbers: { autoNumber: \"AMS\", useLabelIds: true}\n",
        "                           },\n",
        "                tex2jax: {\n",
        "                    inlineMath: [ ['$','$'], [\"\\\\(\",\"\\\\)\"] ],\n",
        "                    displayMath: [ ['$$','$$'], [\"\\\\[\",\"\\\\]\"] ]\n",
        "                },\n",
        "                displayAlign: 'center', // Change this to 'center' to center equations.\n",
        "                \"HTML-CSS\": {\n",
        "                    styles: {'.MathJax_Display': {\"margin\": 4}}\n",
        "                }\n",
        "        });\n",
        "</script>\n"
       ],
       "metadata": {},
       "output_type": "pyout",
       "prompt_number": 1,
       "text": [
        "<IPython.core.display.HTML at 0x1048ff048>"
       ]
      }
     ],
     "prompt_number": 1
    },
    {
     "cell_type": "heading",
     "level": 5,
     "metadata": {},
     "source": [
      "Georges Limbert"
     ]
    },
    {
     "cell_type": "markdown",
     "metadata": {},
     "source": [
      "Aims\n",
      "\n",
      "* Present the general procedure to convert a BVP into its discretised version\n",
      "\n",
      "Outcomes\n",
      "\n",
      "* Derive variational form of BVP\n",
      "* Discretise the associated field variable using shape functions and derive discrete version of the BVP\n",
      "* Write a procedure to solve a simple 2D elasticity problem"
     ]
    },
    {
     "cell_type": "heading",
     "level": 2,
     "metadata": {},
     "source": [
      "FE in a nutshell"
     ]
    },
    {
     "cell_type": "markdown",
     "metadata": {},
     "source": [
      "1. Transform PDE into a variational problem\n",
      "2. Introduce piecewise approximation to variables\n",
      "3. Discreise the physical domain into elements; write approximate equations for each elements (**meshing**). Gives matrix equations.\n",
      "4. Assemble each into global system to solve"
     ]
    },
    {
     "cell_type": "heading",
     "level": 2,
     "metadata": {},
     "source": [
      "Weak form"
     ]
    },
    {
     "cell_type": "markdown",
     "metadata": {},
     "source": [
      "Multiply by *test* function; convert to integral form. Key that test function vanishes on the boundary of the domain, and that it's arbitrary."
     ]
    },
    {
     "cell_type": "heading",
     "level": 2,
     "metadata": {},
     "source": [
      "Field interpolation"
     ]
    },
    {
     "cell_type": "markdown",
     "metadata": {},
     "source": [
      "In direct stiffness approach, derived the stiffness matrix of each element using elementary mechanics of solids (Hooke's law). General approach:\n",
      "\n",
      "1. Approx displcement in each elemnt\n",
      "2. Approx strain and stress from displacement\n",
      "3. Derive stiffness matrix\n",
      "4. Derive global matrix\n",
      "5. Solve."
     ]
    },
    {
     "cell_type": "heading",
     "level": 2,
     "metadata": {},
     "source": [
      "Trial solution"
     ]
    },
    {
     "cell_type": "markdown",
     "metadata": {},
     "source": [
      "Guess a trial form for the solution (finite dimensional)\n",
      "\n",
      "$$\n",
      "  u(x) = \\sum a_i \\phi_i(x)\n",
      "$$\n",
      "\n",
      "where $\\phi_i$ are the basis functions.\n",
      "\n",
      "Simplest: basis elements are linear polynomials."
     ]
    },
    {
     "cell_type": "markdown",
     "metadata": {},
     "source": [
      "Obtain $a_i$ coefficients from nodal displacements; general form is\n",
      "\n",
      "$$\n",
      "  w(x) = N^T {\\bf d}\n",
      "$$\n",
      "\n",
      "where ${\\bf d}$ are the displacements and $N$ is the matrix of shape functions."
     ]
    },
    {
     "cell_type": "heading",
     "level": 2,
     "metadata": {},
     "source": [
      "Shape functions"
     ]
    },
    {
     "cell_type": "markdown",
     "metadata": {},
     "source": [
      "Properties:\n",
      "\n",
      "1. Kronecker delta property: Has value 1 at one node and zero at all other nodes.\n",
      "2. Compatibility: displacement approximation is continuous across element boundaries\n",
      "3. Completeness: Sum of shape functions is $1$ so that $N_1(x) x_1 + N_2(x) x_2 = x$ for all $x$."
     ]
    },
    {
     "cell_type": "heading",
     "level": 2,
     "metadata": {},
     "source": [
      "Derive strain and stress"
     ]
    },
    {
     "cell_type": "markdown",
     "metadata": {},
     "source": [
      "Continuous strain\n",
      "\n",
      "$$\n",
      "  \\varepsilon = \\frac{d w}{dx}\n",
      "$$\n",
      "\n",
      "becomes in the discrete version\n",
      "\n",
      "$$\n",
      "  \\varepsilon = \\frac{d N^T {\\bf d}}{dx} = \\frac{dN_1}{dx} \\frac{dN_2}{dx} {\\bf d} = B {\\bf d}\n",
      "$$\n",
      "\n",
      "The strain-displacement matrix $B$ is \n",
      "\n",
      "$$\n",
      " B = \\frac{d N^T}{dx}\n",
      "$$"
     ]
    },
    {
     "cell_type": "markdown",
     "metadata": {},
     "source": [
      "In 2D case have simple result that $B$ is independent of $x$ (depends only on the nodal locations) so the strain is constant within a linearly interpolated displacement-based element (this follows for stress as well). This highlights the importance of the interpolation scheme, and shows why in some cases it's important to split the parts of the response into volumetric and deviatric pieces."
     ]
    },
    {
     "cell_type": "markdown",
     "metadata": {},
     "source": [
      "1D Hooke's law is\n",
      "\n",
      "$$\n",
      "  \\sigma = E \\varepsilon = E \\frac{dw}{dx}\n",
      "$$\n",
      "\n",
      "which generalizes to give the stress\n",
      "\n",
      "$$\n",
      "  \\sigma = E B {\\bf d}.\n",
      "$$\n",
      "\n",
      "Generally stress and strain approximations (esp. for Lagrange polynomials) are discontinuous across element boundaries."
     ]
    },
    {
     "cell_type": "heading",
     "level": 2,
     "metadata": {},
     "source": [
      "Small 3d detour"
     ]
    },
    {
     "cell_type": "markdown",
     "metadata": {},
     "source": [
      "Weak form links internal and external virtual work. The constitutive equations (eg linear elasticity) link strain to stress via\n",
      "\n",
      "$$\n",
      "  \\sigma = \\mathbb{C} : \\varepsilon\n",
      "$$"
     ]
    },
    {
     "cell_type": "markdown",
     "metadata": {},
     "source": [
      "The 2D case converts the tensor form to a matrix equation; so the symmetry of the stress and strain can be used to convert the 2-tensor into a vector containing only the symmetric terms, and the 4-tensor into a simple matrix."
     ]
    },
    {
     "cell_type": "markdown",
     "metadata": {},
     "source": [
      "Using that the strain is the symmetric part of the gradient of the virtual displacement can relate the displacement, virtual displacement and elasticity tensor $\\mathbb{C}$."
     ]
    },
    {
     "cell_type": "markdown",
     "metadata": {},
     "source": [
      "Following this through to the end we'll get a weak form applied to the *shape functions*."
     ]
    },
    {
     "cell_type": "heading",
     "level": 2,
     "metadata": {},
     "source": [
      "Stiffness matrix"
     ]
    },
    {
     "cell_type": "markdown",
     "metadata": {},
     "source": [
      "The matrix form of this final weak form can be written (at the element level)\n",
      "\n",
      "$$\n",
      "  K_{AiBk} u_i^A - F^A_i\n",
      "$$\n",
      "\n",
      "where $K$ is the stiffness matrix, $F$ the nodal foce vector, $A, B, \\dots$ are node indices, and $i, j, \\dots$ are coordinate indices.\n",
      "\n",
      "In tensor form\n",
      "\n",
      "$$\n",
      "  K = \\int B \\mathbb{C} B^T, \\qquad F = - \\left( \\int b N^a \\, dv + \\int_{\\partial \\Omega} \\bar{t} N^A \\right).\n",
      "$$\n",
      "\n",
      "In 1d this reduces to the direct stiffness method of the previous lecture."
     ]
    },
    {
     "cell_type": "heading",
     "level": 2,
     "metadata": {},
     "source": [
      "Example for the lab"
     ]
    },
    {
     "cell_type": "markdown",
     "metadata": {},
     "source": [
      "Go from the FE mesh to the actual element (in the physical domain), then to the parent element (in the parametric domain) by changing to parametric coordinates. In the parent element the shape functions have very simple forms."
     ]
    },
    {
     "cell_type": "markdown",
     "metadata": {},
     "source": [
      "Next step is to interpolate the position vector; ${\\bf x}$ will just be a linear combination of the shape functions.\n",
      "\n",
      "After this you can interpolate the displacement vector in the same way (this is the isoparametric approach; same shape function for both displacement and position).\n",
      "\n",
      "This leads to the shape function vector written in terms of the parametric coordinates. When taking derivatives you have to link to the physical coordinates. So\n",
      "\n",
      "$$\n",
      "  \\frac{\\partial N_I}{\\partial x} = \\frac{\\partial N}{\\partial \\xi} \\left( \\frac{\\partial x}{\\partial \\xi} \\right)^{-1}\n",
      "$$\n",
      "\n",
      "where the final term is the (inverse of the) Jacobian. The Jacobian of the geometric transformation from the partent to the actual element must have positive determinant (non-zero or the transformation fails; positive to retain orientation)."
     ]
    },
    {
     "cell_type": "markdown",
     "metadata": {},
     "source": [
      "As the shape functions have simple, fixed forms in parametric coordinates the $\\partial N / \\partial \\xi$ also have simple, fixed forms."
     ]
    },
    {
     "cell_type": "heading",
     "level": 2,
     "metadata": {},
     "source": [
      "$B$ matrix and 2D strain tensor"
     ]
    },
    {
     "cell_type": "markdown",
     "metadata": {},
     "source": [
      "Multiple ways of writing the matrix out; careful consideration of order important as it makes the matrix solution more/less efficient."
     ]
    },
    {
     "cell_type": "heading",
     "level": 2,
     "metadata": {},
     "source": [
      "Integrals"
     ]
    },
    {
     "cell_type": "markdown",
     "metadata": {},
     "source": [
      "Standard approach: Gauss integration. Take outer product of 1D stencils, use standard Gauss rules to compute integrals inside the elements."
     ]
    },
    {
     "cell_type": "markdown",
     "metadata": {},
     "source": [
      "The transformation to the physical domain uses the same transformation (Jacobian) matrix; the Gauss integration formula will pick up a contribution from the Jacobian."
     ]
    },
    {
     "cell_type": "heading",
     "level": 2,
     "metadata": {},
     "source": [
      "Assembly"
     ]
    },
    {
     "cell_type": "markdown",
     "metadata": {},
     "source": [
      "Have node coordinates array and the IEN (element nodes) array. The latter is a matrix connecting the nodes to the elements (connectiveity matrix) Rows represent the elements and columns represent the nodes that support the element. "
     ]
    },
    {
     "cell_type": "markdown",
     "metadata": {},
     "source": [
      "Displacement prescribed  at specific nodes (some of the boundary)."
     ]
    },
    {
     "cell_type": "markdown",
     "metadata": {},
     "source": [
      "The global system matrix formed by assembling the individual element siffness matrices according to the element topology. By iterating over each element, then iterating over each Gauss point.\n",
      "\n",
      "1. Call Gauss quad points\n",
      "2. Call shape functions and derivatives\n",
      "3. Call J matrix and physical derivs\n",
      "4. Form strain-disp. matrix $B$\n",
      "5. Form element stiffness matrix $k$\n",
      "\n",
      "At the end, assemble the global $K$ matrix by placing the stiffness contributions at the DOF numbers according to the IEN array."
     ]
    },
    {
     "cell_type": "heading",
     "level": 2,
     "metadata": {},
     "source": [
      "Global matrix"
     ]
    },
    {
     "cell_type": "markdown",
     "metadata": {},
     "source": [
      "Can split out those DOFs which are fee (active) and prescribed. This gives a smaller matrix. \n"
     ]
    }
   ],
   "metadata": {}
  }
 ]
}